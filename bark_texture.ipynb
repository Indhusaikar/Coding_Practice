{
 "cells": [
  {
   "cell_type": "code",
   "execution_count": 2,
   "id": "c20b8905-e37e-4290-8c9a-735b0aa86b13",
   "metadata": {},
   "outputs": [],
   "source": [
    "# Necessary Libraries\n",
    "import numpy as np\n",
    "import os\n",
    "import pathlib\n",
    "import cv2\n",
    "from sklearn.model_selection import train_test_split\n",
    "from sklearn.metrics import accuracy_score, classification_report\n",
    "from sklearn.ensemble import RandomForestClassifier\n",
    "from sklearn.svm import SVC\n",
    "from sklearn.linear_model import LogisticRegression\n",
    "from sklearn.neighbors import KNeighborsClassifier\n",
    "from sklearn.naive_bayes import GaussianNB\n",
    "from sklearn.tree import DecisionTreeClassifier\n",
    "from tensorflow import keras\n",
    "import tensorflow as tf"
   ]
  },
  {
   "cell_type": "code",
   "execution_count": 4,
   "id": "44d318e7-0f83-4196-9c4a-958e51261b7f",
   "metadata": {},
   "outputs": [],
   "source": [
    "# Define Constants\n",
    "IMAGE_SHAPE = (200, 200)\n",
    "DATA_DIR = 'C:/Users/Indhu/Downloads/bark_30/'  # Update with your texture dataset path\n",
    "BATCH_SIZE = 100"
   ]
  },
  {
   "cell_type": "code",
   "execution_count": 6,
   "id": "79f66d59-7d80-4084-b5f6-1ba4c448735d",
   "metadata": {},
   "outputs": [],
   "source": [
    "# Load Data\n",
    "data_dir = pathlib.Path(DATA_DIR)\n",
    "classes = os.listdir(DATA_DIR)\n",
    "texture_images_dict = {}\n",
    "texture_labels_dict = {}\n"
   ]
  },
  {
   "cell_type": "code",
   "execution_count": 8,
   "id": "fe8538b2-3237-427d-ac0f-3d695a0a9386",
   "metadata": {},
   "outputs": [],
   "source": [
    "\n",
    "# Organize Data by Category\n",
    "for index, category in enumerate(classes):\n",
    "    texture_images_dict[category] = list(data_dir.glob(category + '/*'))\n",
    "    texture_labels_dict[category] = index\n",
    "\n",
    "X, y = [], []\n",
    "for class_name, images in texture_images_dict.items():\n",
    "    for image in images:\n",
    "        img = cv2.imread(str(image))\n",
    "        resized_img = cv2.resize(img, IMAGE_SHAPE)\n",
    "        X.append(resized_img)\n",
    "        y.append(texture_labels_dict[class_name])\n",
    "\n",
    "X = np.array(X)\n",
    "y = np.array(y)"
   ]
  },
  {
   "cell_type": "code",
   "execution_count": 10,
   "id": "73f8a3c5-c941-4e4b-a6a3-97919beacfee",
   "metadata": {},
   "outputs": [],
   "source": [
    "# Normalize the Images\n",
    "X = X / 255.0\n"
   ]
  },
  {
   "cell_type": "code",
   "execution_count": 12,
   "id": "588a11e0-cafa-4772-9ede-0d38bc596eae",
   "metadata": {},
   "outputs": [],
   "source": [
    "# Split Dataset\n",
    "X_train, X_test, y_train, y_test = train_test_split(X, y, test_size=0.2, random_state=42)\n"
   ]
  },
  {
   "cell_type": "code",
   "execution_count": 14,
   "id": "b49322a8-7c24-4575-b324-504add520d1a",
   "metadata": {},
   "outputs": [
    {
     "name": "stderr",
     "output_type": "stream",
     "text": [
      "C:\\Users\\Indhu\\AppData\\Local\\Temp\\ipykernel_10368\\3320221462.py:2: UserWarning: `input_shape` is undefined or non-square, or `rows` is not in [96, 128, 160, 192, 224]. Weights for input shape (224, 224) will be loaded as the default.\n",
      "  base_model = keras.applications.MobileNetV2(input_shape=IMAGE_SHAPE + (3,), include_top=False, weights='imagenet')\n"
     ]
    }
   ],
   "source": [
    "\n",
    "# Build Feature Extraction Model (Pretrained CNN)\n",
    "base_model = keras.applications.MobileNetV2(input_shape=IMAGE_SHAPE + (3,), include_top=False, weights='imagenet')\n",
    "base_model.trainable = False  # Freeze the convolutional base"
   ]
  },
  {
   "cell_type": "code",
   "execution_count": 16,
   "id": "2210698c-24c3-4037-a59b-0fb6b5b2c55d",
   "metadata": {},
   "outputs": [],
   "source": [
    "# Create the Feature Extraction Pipeline\n",
    "feature_extractor = keras.Sequential([\n",
    "    base_model,\n",
    "    keras.layers.GlobalAveragePooling2D()\n",
    "])\n"
   ]
  },
  {
   "cell_type": "code",
   "execution_count": 18,
   "id": "ddda843d-f8af-4b19-970f-02c7c24cfea1",
   "metadata": {},
   "outputs": [
    {
     "name": "stdout",
     "output_type": "stream",
     "text": [
      "\u001b[1m28/28\u001b[0m \u001b[32m━━━━━━━━━━━━━━━━━━━━\u001b[0m\u001b[37m\u001b[0m \u001b[1m107s\u001b[0m 2s/step\n",
      "\u001b[1m7/7\u001b[0m \u001b[32m━━━━━━━━━━━━━━━━━━━━\u001b[0m\u001b[37m\u001b[0m \u001b[1m14s\u001b[0m 2s/step\n"
     ]
    }
   ],
   "source": [
    "\n",
    "# Extract Features\n",
    "X_train_features = feature_extractor.predict(X_train, batch_size=BATCH_SIZE, verbose=1)\n",
    "X_test_features = feature_extractor.predict(X_test, batch_size=BATCH_SIZE, verbose=1)"
   ]
  },
  {
   "cell_type": "code",
   "execution_count": 20,
   "id": "b51764ba-9bb8-41cd-afe3-7c40e892df68",
   "metadata": {},
   "outputs": [],
   "source": [
    "# Define Classifiers\n",
    "classifiers = {\n",
    "    \"Random Forest\": RandomForestClassifier(n_estimators=100, random_state=42),\n",
    "    \"Logistic Regression\": LogisticRegression(max_iter=200, random_state=42),\n",
    "    \"K-Nearest Neighbors\": KNeighborsClassifier(n_neighbors=5),\n",
    "    \"Support Vector Machine\": SVC(kernel='rbf', probability=True, random_state=42),\n",
    "    \"Decision Tree\": DecisionTreeClassifier(random_state=42),\n",
    "    \"Naive Bayes\": GaussianNB()\n",
    "}\n"
   ]
  },
  {
   "cell_type": "code",
   "execution_count": null,
   "id": "569e6d28-a7d1-4e58-8e64-b01eb37f5506",
   "metadata": {},
   "outputs": [
    {
     "name": "stdout",
     "output_type": "stream",
     "text": [
      "Random Forest Accuracy: 0.9075\n",
      "              precision    recall  f1-score   support\n",
      "\n",
      "           0       0.91      0.91      0.91        22\n",
      "           1       0.95      0.86      0.90        21\n",
      "           2       1.00      1.00      1.00        42\n",
      "           3       0.93      1.00      0.96        52\n",
      "           4       0.90      0.95      0.93        20\n",
      "           5       0.91      1.00      0.95        20\n",
      "           6       0.88      1.00      0.94        30\n",
      "           7       1.00      1.00      1.00        21\n",
      "           8       0.90      1.00      0.95        19\n",
      "           9       0.91      1.00      0.96        32\n",
      "          10       0.81      0.94      0.87        18\n",
      "          11       0.97      0.93      0.95        30\n",
      "          12       1.00      1.00      1.00        22\n",
      "          13       1.00      1.00      1.00        15\n",
      "          14       0.88      0.67      0.76        21\n",
      "          15       1.00      1.00      1.00        15\n",
      "          16       0.91      0.59      0.71        17\n",
      "          17       0.81      0.77      0.79        22\n",
      "          18       0.70      0.90      0.79        29\n",
      "          19       0.72      0.72      0.72        18\n",
      "          20       0.90      0.97      0.93        29\n",
      "          21       0.92      1.00      0.96        33\n",
      "          22       0.96      0.93      0.95        28\n",
      "          23       1.00      0.89      0.94        18\n",
      "          24       0.91      0.91      0.91        11\n",
      "          25       0.64      0.47      0.54        15\n",
      "          26       1.00      0.94      0.97        16\n",
      "          27       0.88      0.94      0.91        16\n",
      "          28       0.92      0.50      0.65        22\n",
      "          29       0.94      0.94      0.94        18\n",
      "\n",
      "    accuracy                           0.91       692\n",
      "   macro avg       0.91      0.89      0.89       692\n",
      "weighted avg       0.91      0.91      0.90       692\n",
      "\n",
      "Logistic Regression Accuracy: 0.9595\n",
      "              precision    recall  f1-score   support\n",
      "\n",
      "           0       1.00      1.00      1.00        22\n",
      "           1       0.91      0.95      0.93        21\n",
      "           2       0.98      1.00      0.99        42\n",
      "           3       1.00      1.00      1.00        52\n",
      "           4       1.00      1.00      1.00        20\n",
      "           5       1.00      1.00      1.00        20\n",
      "           6       0.97      1.00      0.98        30\n",
      "           7       1.00      1.00      1.00        21\n",
      "           8       1.00      1.00      1.00        19\n",
      "           9       1.00      1.00      1.00        32\n",
      "          10       0.82      1.00      0.90        18\n",
      "          11       0.97      1.00      0.98        30\n",
      "          12       1.00      1.00      1.00        22\n",
      "          13       1.00      1.00      1.00        15\n",
      "          14       1.00      0.90      0.95        21\n",
      "          15       1.00      1.00      1.00        15\n",
      "          16       0.88      0.88      0.88        17\n",
      "          17       0.91      0.91      0.91        22\n",
      "          18       0.84      0.90      0.87        29\n",
      "          19       0.89      0.89      0.89        18\n",
      "          20       1.00      0.97      0.98        29\n",
      "          21       0.97      1.00      0.99        33\n",
      "          22       1.00      1.00      1.00        28\n",
      "          23       1.00      0.89      0.94        18\n",
      "          24       1.00      0.91      0.95        11\n",
      "          25       0.82      0.60      0.69        15\n",
      "          26       1.00      0.94      0.97        16\n",
      "          27       1.00      1.00      1.00        16\n",
      "          28       0.82      0.82      0.82        22\n",
      "          29       0.94      0.94      0.94        18\n",
      "\n",
      "    accuracy                           0.96       692\n",
      "   macro avg       0.96      0.95      0.95       692\n",
      "weighted avg       0.96      0.96      0.96       692\n",
      "\n"
     ]
    },
    {
     "name": "stderr",
     "output_type": "stream",
     "text": [
      "C:\\Users\\Indhu\\anaconda3\\Lib\\site-packages\\joblib\\externals\\loky\\backend\\context.py:136: UserWarning: Could not find the number of physical cores for the following reason:\n",
      "[WinError 2] The system cannot find the file specified\n",
      "Returning the number of logical cores instead. You can silence this warning by setting LOKY_MAX_CPU_COUNT to the number of cores you want to use.\n",
      "  warnings.warn(\n",
      "  File \"C:\\Users\\Indhu\\anaconda3\\Lib\\site-packages\\joblib\\externals\\loky\\backend\\context.py\", line 257, in _count_physical_cores\n",
      "    cpu_info = subprocess.run(\n",
      "               ^^^^^^^^^^^^^^^\n",
      "  File \"C:\\Users\\Indhu\\anaconda3\\Lib\\subprocess.py\", line 548, in run\n",
      "    with Popen(*popenargs, **kwargs) as process:\n",
      "         ^^^^^^^^^^^^^^^^^^^^^^^^^^^\n",
      "  File \"C:\\Users\\Indhu\\anaconda3\\Lib\\subprocess.py\", line 1026, in __init__\n",
      "    self._execute_child(args, executable, preexec_fn, close_fds,\n",
      "  File \"C:\\Users\\Indhu\\anaconda3\\Lib\\subprocess.py\", line 1538, in _execute_child\n",
      "    hp, ht, pid, tid = _winapi.CreateProcess(executable, args,\n",
      "                       ^^^^^^^^^^^^^^^^^^^^^^^^^^^^^^^^^^^^^^^\n"
     ]
    },
    {
     "name": "stdout",
     "output_type": "stream",
     "text": [
      "K-Nearest Neighbors Accuracy: 0.9176\n",
      "              precision    recall  f1-score   support\n",
      "\n",
      "           0       1.00      1.00      1.00        22\n",
      "           1       0.87      0.95      0.91        21\n",
      "           2       1.00      1.00      1.00        42\n",
      "           3       0.96      1.00      0.98        52\n",
      "           4       1.00      0.95      0.97        20\n",
      "           5       0.95      1.00      0.98        20\n",
      "           6       0.91      1.00      0.95        30\n",
      "           7       1.00      1.00      1.00        21\n",
      "           8       0.95      0.95      0.95        19\n",
      "           9       1.00      0.97      0.98        32\n",
      "          10       0.85      0.94      0.89        18\n",
      "          11       0.97      0.97      0.97        30\n",
      "          12       1.00      1.00      1.00        22\n",
      "          13       1.00      1.00      1.00        15\n",
      "          14       1.00      0.62      0.76        21\n",
      "          15       1.00      1.00      1.00        15\n",
      "          16       0.62      0.88      0.73        17\n",
      "          17       0.83      0.91      0.87        22\n",
      "          18       0.74      0.86      0.79        29\n",
      "          19       0.70      0.78      0.74        18\n",
      "          20       0.93      0.97      0.95        29\n",
      "          21       0.92      1.00      0.96        33\n",
      "          22       0.96      0.93      0.95        28\n",
      "          23       1.00      0.89      0.94        18\n",
      "          24       0.91      0.91      0.91        11\n",
      "          25       0.86      0.40      0.55        15\n",
      "          26       1.00      0.94      0.97        16\n",
      "          27       0.89      1.00      0.94        16\n",
      "          28       0.74      0.64      0.68        22\n",
      "          29       1.00      0.61      0.76        18\n",
      "\n",
      "    accuracy                           0.92       692\n",
      "   macro avg       0.92      0.90      0.90       692\n",
      "weighted avg       0.92      0.92      0.91       692\n",
      "\n",
      "Support Vector Machine Accuracy: 0.9538\n",
      "              precision    recall  f1-score   support\n",
      "\n",
      "           0       1.00      0.95      0.98        22\n",
      "           1       1.00      0.95      0.98        21\n",
      "           2       1.00      1.00      1.00        42\n",
      "           3       1.00      1.00      1.00        52\n",
      "           4       1.00      0.95      0.97        20\n",
      "           5       1.00      1.00      1.00        20\n",
      "           6       0.91      1.00      0.95        30\n",
      "           7       1.00      1.00      1.00        21\n",
      "           8       1.00      0.95      0.97        19\n",
      "           9       0.97      1.00      0.98        32\n",
      "          10       0.86      1.00      0.92        18\n",
      "          11       0.97      1.00      0.98        30\n",
      "          12       1.00      1.00      1.00        22\n",
      "          13       1.00      1.00      1.00        15\n",
      "          14       1.00      0.86      0.92        21\n",
      "          15       1.00      1.00      1.00        15\n",
      "          16       0.78      0.82      0.80        17\n",
      "          17       0.91      0.91      0.91        22\n",
      "          18       0.72      0.90      0.80        29\n",
      "          19       0.89      0.89      0.89        18\n",
      "          20       1.00      0.97      0.98        29\n",
      "          21       0.97      1.00      0.99        33\n",
      "          22       1.00      1.00      1.00        28\n",
      "          23       1.00      0.89      0.94        18\n",
      "          24       1.00      0.91      0.95        11\n",
      "          25       0.77      0.67      0.71        15\n",
      "          26       1.00      0.94      0.97        16\n",
      "          27       1.00      1.00      1.00        16\n",
      "          28       0.89      0.77      0.83        22\n",
      "          29       1.00      1.00      1.00        18\n",
      "\n",
      "    accuracy                           0.95       692\n",
      "   macro avg       0.95      0.94      0.95       692\n",
      "weighted avg       0.96      0.95      0.95       692\n",
      "\n"
     ]
    }
   ],
   "source": [
    "# Train and Evaluate Classifiers\n",
    "for model_name, model in classifiers.items():\n",
    "    model.fit(X_train_features, y_train)\n",
    "    y_pred = model.predict(X_test_features)\n",
    "    print(f\"{model_name} Accuracy: {accuracy_score(y_test, y_pred):.4f}\")\n",
    "    print(classification_report(y_test, y_pred))\n"
   ]
  },
  {
   "cell_type": "code",
   "execution_count": null,
   "id": "615dc25c-9104-49c1-9d54-341a844109ad",
   "metadata": {},
   "outputs": [],
   "source": []
  }
 ],
 "metadata": {
  "kernelspec": {
   "display_name": "Python 3 (ipykernel)",
   "language": "python",
   "name": "python3"
  },
  "language_info": {
   "codemirror_mode": {
    "name": "ipython",
    "version": 3
   },
   "file_extension": ".py",
   "mimetype": "text/x-python",
   "name": "python",
   "nbconvert_exporter": "python",
   "pygments_lexer": "ipython3",
   "version": "3.12.4"
  }
 },
 "nbformat": 4,
 "nbformat_minor": 5
}
