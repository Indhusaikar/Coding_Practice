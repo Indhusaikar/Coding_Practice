{
 "cells": [
  {
   "cell_type": "code",
   "execution_count": 2,
   "id": "69bf94c3-5bc8-46f4-90a7-ebef926dce7c",
   "metadata": {},
   "outputs": [],
   "source": [
    "# Necessary Libraries\n",
    "import numpy as np\n",
    "import os\n",
    "import pathlib\n",
    "import cv2\n",
    "from sklearn.model_selection import train_test_split\n",
    "from sklearn.metrics import accuracy_score, classification_report\n",
    "from sklearn.ensemble import RandomForestClassifier\n",
    "from sklearn.svm import SVC\n",
    "from sklearn.linear_model import LogisticRegression\n",
    "from sklearn.neighbors import KNeighborsClassifier\n",
    "from tensorflow import keras\n",
    "import tensorflow as tf"
   ]
  },
  {
   "cell_type": "code",
   "execution_count": 4,
   "id": "fe83913e-8ee3-48a0-8a95-0e8452166951",
   "metadata": {},
   "outputs": [],
   "source": [
    "# Define Constants\n",
    "IMAGE_SHAPE = (200, 200)\n",
    "DATA_DIR = 'C:/Users/Indhu/Downloads/dog_breed_30_image/'  # Update with your dataset path\n",
    "BATCH_SIZE = 100\n"
   ]
  },
  {
   "cell_type": "code",
   "execution_count": 6,
   "id": "d433b66d-4257-4aa5-bbb7-570df91570b4",
   "metadata": {},
   "outputs": [],
   "source": [
    "# Load Data\n",
    "data_dir = pathlib.Path(DATA_DIR)\n",
    "breeds = os.listdir(DATA_DIR)\n",
    "dogs_images_dict = {}\n",
    "dogs_labels_dict = {}"
   ]
  },
  {
   "cell_type": "code",
   "execution_count": 9,
   "id": "39d025a2-4f9c-4d07-b664-0bb8bf9d7878",
   "metadata": {},
   "outputs": [],
   "source": [
    "# Organize Data by Category\n",
    "for index, category in enumerate(breeds):\n",
    "    dogs_images_dict[category] = list(data_dir.glob(category + '/*'))\n",
    "    dogs_labels_dict[category] = index"
   ]
  },
  {
   "cell_type": "code",
   "execution_count": 11,
   "id": "714de29d-874f-4a9b-bd4b-a28a5a39865b",
   "metadata": {},
   "outputs": [],
   "source": [
    "X, y = [], []\n",
    "for breed_name, images in dogs_images_dict.items():\n",
    "    for image in images:\n",
    "        img = cv2.imread(str(image))\n",
    "        resized_img = cv2.resize(img, IMAGE_SHAPE)\n",
    "        X.append(resized_img)\n",
    "        y.append(dogs_labels_dict[breed_name])"
   ]
  },
  {
   "cell_type": "code",
   "execution_count": 13,
   "id": "2b775a0c-4346-448f-b8d4-86802a071754",
   "metadata": {},
   "outputs": [],
   "source": [
    "X = np.array(X)\n",
    "y = np.array(y)"
   ]
  },
  {
   "cell_type": "code",
   "execution_count": 15,
   "id": "a587187a-617a-48b6-8707-1ff26adefdbc",
   "metadata": {},
   "outputs": [],
   "source": [
    "# Normalize the Images\n",
    "X = X / 255.0"
   ]
  },
  {
   "cell_type": "code",
   "execution_count": 17,
   "id": "c3c039ab-95bc-4c00-8007-90dffcfce885",
   "metadata": {},
   "outputs": [],
   "source": [
    "# Split Dataset\n",
    "X_train, X_test, y_train, y_test = train_test_split(X, y, test_size=0.2, random_state=42)"
   ]
  },
  {
   "cell_type": "code",
   "execution_count": 19,
   "id": "a4190ca2-0da7-4ec6-813c-ae0643ab411e",
   "metadata": {},
   "outputs": [
    {
     "name": "stderr",
     "output_type": "stream",
     "text": [
      "C:\\Users\\Indhu\\AppData\\Local\\Temp\\ipykernel_5812\\2597365918.py:2: UserWarning: `input_shape` is undefined or non-square, or `rows` is not in [96, 128, 160, 192, 224]. Weights for input shape (224, 224) will be loaded as the default.\n",
      "  base_model = keras.applications.MobileNetV2(input_shape=IMAGE_SHAPE + (3,), include_top=False, weights='imagenet')\n"
     ]
    },
    {
     "name": "stdout",
     "output_type": "stream",
     "text": [
      "Downloading data from https://storage.googleapis.com/tensorflow/keras-applications/mobilenet_v2/mobilenet_v2_weights_tf_dim_ordering_tf_kernels_1.0_224_no_top.h5\n",
      "\u001b[1m9406464/9406464\u001b[0m \u001b[32m━━━━━━━━━━━━━━━━━━━━\u001b[0m\u001b[37m\u001b[0m \u001b[1m6s\u001b[0m 1us/step\n"
     ]
    }
   ],
   "source": [
    "# Build Feature Extraction Model (Pretrained CNN)\n",
    "base_model = keras.applications.MobileNetV2(input_shape=IMAGE_SHAPE + (3,), include_top=False, weights='imagenet')\n",
    "base_model.trainable = False  # Freeze the convolutional base"
   ]
  },
  {
   "cell_type": "code",
   "execution_count": 21,
   "id": "649d18d4-0849-4fad-ae35-0f8cd34bceea",
   "metadata": {},
   "outputs": [],
   "source": [
    "# Create the Feature Extraction Pipeline\n",
    "feature_extractor = keras.Sequential([\n",
    "    base_model,\n",
    "    keras.layers.GlobalAveragePooling2D()\n",
    "])\n"
   ]
  },
  {
   "cell_type": "code",
   "execution_count": 23,
   "id": "07d681d5-12bc-4cda-b8c1-3f471e7e6e3a",
   "metadata": {},
   "outputs": [
    {
     "name": "stdout",
     "output_type": "stream",
     "text": [
      "\u001b[1m38/38\u001b[0m \u001b[32m━━━━━━━━━━━━━━━━━━━━\u001b[0m\u001b[37m\u001b[0m \u001b[1m171s\u001b[0m 2s/step\n",
      "\u001b[1m10/10\u001b[0m \u001b[32m━━━━━━━━━━━━━━━━━━━━\u001b[0m\u001b[37m\u001b[0m \u001b[1m20s\u001b[0m 2s/step\n"
     ]
    }
   ],
   "source": [
    "# Extract Features\n",
    "X_train_features = feature_extractor.predict(X_train, batch_size=BATCH_SIZE, verbose=1)\n",
    "X_test_features = feature_extractor.predict(X_test, batch_size=BATCH_SIZE, verbose=1)"
   ]
  },
  {
   "cell_type": "code",
   "execution_count": 33,
   "id": "ca931c7a-821b-4a5c-b81b-30ae24942839",
   "metadata": {},
   "outputs": [],
   "source": [
    "# Define Classifiers\n",
    "classifiers = {\n",
    "    \"Random Forest\": RandomForestClassifier(n_estimators=100, random_state=42),\n",
    "    \"Logistic Regression\": LogisticRegression(max_iter=200, random_state=42),\n",
    "    \"K-Nearest Neighbors\": KNeighborsClassifier(n_neighbors=5),\n",
    "    \"Support Vector Machine\": SVC(kernel='rbf', probability=True)\n",
    "}"
   ]
  },
  {
   "cell_type": "code",
   "execution_count": 39,
   "id": "83d038b7-0342-4bbc-b276-5b856d427695",
   "metadata": {},
   "outputs": [
    {
     "name": "stdout",
     "output_type": "stream",
     "text": [
      "Training Random Forest...\n",
      "Random Forest Accuracy: 0.7357\n",
      "                             precision    recall  f1-score   support\n",
      "\n",
      "                      boxer       0.65      0.46      0.54        37\n",
      "          Brabancon_griffon       0.89      0.82      0.85        38\n",
      "                     briard       0.77      0.74      0.75        31\n",
      "           Brittany_spaniel       0.69      0.56      0.62        36\n",
      "               bull_mastiff       0.53      0.63      0.58        27\n",
      "                      cairn       0.83      0.81      0.82        42\n",
      "                   Cardigan       0.72      0.64      0.68        36\n",
      "   Chesapeake_Bay_retriever       0.59      0.61      0.60        36\n",
      "                  Chihuahua       0.68      0.58      0.62        26\n",
      "                       chow       0.84      0.95      0.89        44\n",
      "                    clumber       0.61      0.70      0.66        27\n",
      "             cocker_spaniel       0.79      0.50      0.61        38\n",
      "                     collie       0.72      0.81      0.76        26\n",
      "     curly-coated_retriever       0.88      0.81      0.85        27\n",
      "             Dandie_Dinmont       0.87      0.91      0.89        44\n",
      "                      dhole       0.62      0.90      0.73        29\n",
      "                      dingo       0.63      0.71      0.67        34\n",
      "                   Doberman       0.67      0.82      0.73        22\n",
      "           English_foxhound       0.71      0.85      0.77        26\n",
      "             English_setter       0.67      0.57      0.62        35\n",
      "           English_springer       0.67      0.92      0.77        24\n",
      "                EntleBucher       0.83      0.94      0.88        36\n",
      "                 Eskimo_dog       0.85      0.76      0.80        29\n",
      "      flat-coated_retriever       0.67      0.79      0.72        28\n",
      "             French_bulldog       0.84      0.81      0.82        26\n",
      "            German_shepherd       0.80      0.62      0.70        32\n",
      "German_short-haired_pointer       0.68      0.68      0.68        28\n",
      "            giant_schnauzer       0.77      0.75      0.76        32\n",
      "           golden_retriever       0.82      0.74      0.78        31\n",
      "\n",
      "                   accuracy                           0.74       927\n",
      "                  macro avg       0.73      0.74      0.73       927\n",
      "               weighted avg       0.74      0.74      0.73       927\n",
      "\n",
      "Training Logistic Regression...\n",
      "Logistic Regression Accuracy: 0.8091\n",
      "                             precision    recall  f1-score   support\n",
      "\n",
      "                      boxer       0.67      0.59      0.63        37\n",
      "          Brabancon_griffon       0.88      0.92      0.90        38\n",
      "                     briard       0.81      0.84      0.83        31\n",
      "           Brittany_spaniel       0.72      0.78      0.75        36\n",
      "               bull_mastiff       0.73      0.81      0.77        27\n",
      "                      cairn       0.88      0.90      0.89        42\n",
      "                   Cardigan       0.75      0.75      0.75        36\n",
      "   Chesapeake_Bay_retriever       0.65      0.67      0.66        36\n",
      "                  Chihuahua       0.74      0.77      0.75        26\n",
      "                       chow       0.95      0.93      0.94        44\n",
      "                    clumber       0.79      0.81      0.80        27\n",
      "             cocker_spaniel       0.88      0.74      0.80        38\n",
      "                     collie       0.84      0.81      0.82        26\n",
      "     curly-coated_retriever       0.92      0.85      0.88        27\n",
      "             Dandie_Dinmont       0.95      0.93      0.94        44\n",
      "                      dhole       0.78      0.97      0.86        29\n",
      "                      dingo       0.87      0.76      0.81        34\n",
      "                   Doberman       0.77      0.77      0.77        22\n",
      "           English_foxhound       0.84      0.81      0.82        26\n",
      "             English_setter       0.72      0.66      0.69        35\n",
      "           English_springer       0.71      0.83      0.77        24\n",
      "                EntleBucher       0.92      0.97      0.95        36\n",
      "                 Eskimo_dog       0.76      0.76      0.76        29\n",
      "      flat-coated_retriever       0.79      0.82      0.81        28\n",
      "             French_bulldog       0.91      0.81      0.86        26\n",
      "            German_shepherd       0.80      0.75      0.77        32\n",
      "German_short-haired_pointer       0.67      0.79      0.72        28\n",
      "            giant_schnauzer       0.81      0.81      0.81        32\n",
      "           golden_retriever       0.89      0.77      0.83        31\n",
      "\n",
      "                   accuracy                           0.81       927\n",
      "                  macro avg       0.81      0.81      0.81       927\n",
      "               weighted avg       0.81      0.81      0.81       927\n",
      "\n",
      "Training K-Nearest Neighbors...\n"
     ]
    },
    {
     "name": "stderr",
     "output_type": "stream",
     "text": [
      "C:\\Users\\Indhu\\anaconda3\\Lib\\site-packages\\joblib\\externals\\loky\\backend\\context.py:136: UserWarning: Could not find the number of physical cores for the following reason:\n",
      "[WinError 2] The system cannot find the file specified\n",
      "Returning the number of logical cores instead. You can silence this warning by setting LOKY_MAX_CPU_COUNT to the number of cores you want to use.\n",
      "  warnings.warn(\n",
      "  File \"C:\\Users\\Indhu\\anaconda3\\Lib\\site-packages\\joblib\\externals\\loky\\backend\\context.py\", line 257, in _count_physical_cores\n",
      "    cpu_info = subprocess.run(\n",
      "               ^^^^^^^^^^^^^^^\n",
      "  File \"C:\\Users\\Indhu\\anaconda3\\Lib\\subprocess.py\", line 548, in run\n",
      "    with Popen(*popenargs, **kwargs) as process:\n",
      "         ^^^^^^^^^^^^^^^^^^^^^^^^^^^\n",
      "  File \"C:\\Users\\Indhu\\anaconda3\\Lib\\subprocess.py\", line 1026, in __init__\n",
      "    self._execute_child(args, executable, preexec_fn, close_fds,\n",
      "  File \"C:\\Users\\Indhu\\anaconda3\\Lib\\subprocess.py\", line 1538, in _execute_child\n",
      "    hp, ht, pid, tid = _winapi.CreateProcess(executable, args,\n",
      "                       ^^^^^^^^^^^^^^^^^^^^^^^^^^^^^^^^^^^^^^^\n"
     ]
    },
    {
     "name": "stdout",
     "output_type": "stream",
     "text": [
      "K-Nearest Neighbors Accuracy: 0.7594\n",
      "                             precision    recall  f1-score   support\n",
      "\n",
      "                      boxer       0.67      0.59      0.63        37\n",
      "          Brabancon_griffon       0.91      0.84      0.88        38\n",
      "                     briard       0.77      0.74      0.75        31\n",
      "           Brittany_spaniel       0.62      0.56      0.59        36\n",
      "               bull_mastiff       0.54      0.81      0.65        27\n",
      "                      cairn       0.83      0.90      0.86        42\n",
      "                   Cardigan       0.76      0.72      0.74        36\n",
      "   Chesapeake_Bay_retriever       0.53      0.67      0.59        36\n",
      "                  Chihuahua       0.83      0.58      0.68        26\n",
      "                       chow       0.98      0.98      0.98        44\n",
      "                    clumber       0.63      0.96      0.76        27\n",
      "             cocker_spaniel       0.89      0.63      0.74        38\n",
      "                     collie       0.79      0.85      0.81        26\n",
      "     curly-coated_retriever       0.86      0.89      0.87        27\n",
      "             Dandie_Dinmont       0.89      0.93      0.91        44\n",
      "                      dhole       0.66      0.93      0.77        29\n",
      "                      dingo       0.76      0.74      0.75        34\n",
      "                   Doberman       0.75      0.68      0.71        22\n",
      "           English_foxhound       0.84      0.81      0.82        26\n",
      "             English_setter       0.57      0.46      0.51        35\n",
      "           English_springer       0.73      0.92      0.81        24\n",
      "                EntleBucher       0.83      0.97      0.90        36\n",
      "                 Eskimo_dog       0.79      0.79      0.79        29\n",
      "      flat-coated_retriever       0.69      0.71      0.70        28\n",
      "             French_bulldog       0.91      0.77      0.83        26\n",
      "            German_shepherd       0.76      0.69      0.72        32\n",
      "German_short-haired_pointer       0.70      0.68      0.69        28\n",
      "            giant_schnauzer       0.90      0.56      0.69        32\n",
      "           golden_retriever       0.79      0.61      0.69        31\n",
      "\n",
      "                   accuracy                           0.76       927\n",
      "                  macro avg       0.77      0.76      0.75       927\n",
      "               weighted avg       0.77      0.76      0.76       927\n",
      "\n",
      "Training Support Vector Machine...\n",
      "Support Vector Machine Accuracy: 0.8123\n",
      "                             precision    recall  f1-score   support\n",
      "\n",
      "                      boxer       0.78      0.68      0.72        37\n",
      "          Brabancon_griffon       0.94      0.87      0.90        38\n",
      "                     briard       0.89      0.81      0.85        31\n",
      "           Brittany_spaniel       0.76      0.78      0.77        36\n",
      "               bull_mastiff       0.73      0.89      0.80        27\n",
      "                      cairn       0.86      0.88      0.87        42\n",
      "                   Cardigan       0.72      0.72      0.72        36\n",
      "   Chesapeake_Bay_retriever       0.58      0.78      0.67        36\n",
      "                  Chihuahua       0.67      0.69      0.68        26\n",
      "                       chow       0.93      0.95      0.94        44\n",
      "                    clumber       0.69      0.81      0.75        27\n",
      "             cocker_spaniel       0.93      0.68      0.79        38\n",
      "                     collie       0.85      0.85      0.85        26\n",
      "     curly-coated_retriever       0.89      0.93      0.91        27\n",
      "             Dandie_Dinmont       0.98      0.93      0.95        44\n",
      "                      dhole       0.68      0.93      0.78        29\n",
      "                      dingo       0.77      0.79      0.78        34\n",
      "                   Doberman       0.65      0.77      0.71        22\n",
      "           English_foxhound       0.88      0.81      0.84        26\n",
      "             English_setter       0.81      0.63      0.71        35\n",
      "           English_springer       0.73      0.92      0.81        24\n",
      "                EntleBucher       0.92      0.97      0.95        36\n",
      "                 Eskimo_dog       0.88      0.76      0.81        29\n",
      "      flat-coated_retriever       0.82      0.82      0.82        28\n",
      "             French_bulldog       0.91      0.77      0.83        26\n",
      "            German_shepherd       0.85      0.69      0.76        32\n",
      "German_short-haired_pointer       0.74      0.82      0.78        28\n",
      "            giant_schnauzer       0.90      0.81      0.85        32\n",
      "           golden_retriever       0.92      0.77      0.84        31\n",
      "\n",
      "                   accuracy                           0.81       927\n",
      "                  macro avg       0.82      0.81      0.81       927\n",
      "               weighted avg       0.82      0.81      0.81       927\n",
      "\n"
     ]
    }
   ],
   "source": [
    "# Train and Evaluate Classifiers\n",
    "for name, clf in classifiers.items():\n",
    "    print(f\"Training {name}...\")\n",
    "    clf.fit(X_train_features, y_train)\n",
    "    y_pred = clf.predict(X_test_features)\n",
    "    \n",
    "    # Calculate accuracy\n",
    "    accuracy = accuracy_score(y_test, y_pred)\n",
    "    print(f\"{name} Accuracy: {accuracy:.4f}\")\n",
    "    \n",
    "    # Generate classification report\n",
    "    print(classification_report(y_test, y_pred, target_names=breeds))"
   ]
  },
  {
   "cell_type": "code",
   "execution_count": null,
   "id": "85d2b336-1e24-4a1f-a208-b7220f90ea30",
   "metadata": {},
   "outputs": [],
   "source": []
  }
 ],
 "metadata": {
  "kernelspec": {
   "display_name": "Python 3 (ipykernel)",
   "language": "python",
   "name": "python3"
  },
  "language_info": {
   "codemirror_mode": {
    "name": "ipython",
    "version": 3
   },
   "file_extension": ".py",
   "mimetype": "text/x-python",
   "name": "python",
   "nbconvert_exporter": "python",
   "pygments_lexer": "ipython3",
   "version": "3.12.4"
  }
 },
 "nbformat": 4,
 "nbformat_minor": 5
}
