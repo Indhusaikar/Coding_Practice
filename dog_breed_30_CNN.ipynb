{
 "cells": [
  {
   "cell_type": "code",
   "execution_count": 2,
   "id": "11806864-dce2-44c9-a4c1-e9a4e5523e7d",
   "metadata": {},
   "outputs": [],
   "source": [
    "import numpy as np\n",
    "import os\n",
    "import pathlib\n",
    "import cv2\n",
    "from sklearn.model_selection import train_test_split\n",
    "from sklearn.metrics import accuracy_score, classification_report\n",
    "from tensorflow.keras.models import Sequential\n",
    "from tensorflow.keras.layers import Conv2D, MaxPooling2D, Flatten, Dense, Dropout\n",
    "from tensorflow.keras.utils import to_categorical\n"
   ]
  },
  {
   "cell_type": "code",
   "execution_count": 4,
   "id": "22ffc24f-f5b8-4d86-9b7f-ac9f2ce46d06",
   "metadata": {},
   "outputs": [],
   "source": [
    "\n",
    "# Define constants\n",
    "IMAGE_SHAPE = (200, 200)  # Resize all images to this shape\n",
    "BATCH_SIZE = 32\n",
    "EPOCHS = 20\n",
    "DATA_DIR = 'C:/Users/Indhu/Downloads/dog_breed_30_image/'  # Update with your dataset path"
   ]
  },
  {
   "cell_type": "code",
   "execution_count": 6,
   "id": "fb08c7c3-f6ab-469a-b728-a47a6a5d6a1c",
   "metadata": {},
   "outputs": [],
   "source": [
    "# Load data\n",
    "data_dir = pathlib.Path(DATA_DIR)\n",
    "breeds = os.listdir(DATA_DIR)\n",
    "dogs_images_dict = {}\n",
    "dogs_labels_dict = {}\n",
    "X, y = [], []\n",
    "for index, category in enumerate(breeds):\n",
    "    dogs_images_dict[category] = list(data_dir.glob(category + '/*'))\n",
    "    dogs_labels_dict[category] = index\n",
    "\n",
    "for breed_name, images in dogs_images_dict.items():\n",
    "    for image in images:\n",
    "        img = cv2.imread(str(image))\n",
    "        if img is not None:\n",
    "            resized_img = cv2.resize(img, IMAGE_SHAPE)\n",
    "            X.append(resized_img)\n",
    "            y.append(dogs_labels_dict[breed_name])\n",
    "\n",
    "X = np.array(X) / 255.0  # Normalize images\n",
    "y = np.array(y)"
   ]
  },
  {
   "cell_type": "code",
   "execution_count": 8,
   "id": "3902c7cb-2cab-4c6b-84d7-90d983b3b1d2",
   "metadata": {},
   "outputs": [],
   "source": [
    "# Convert labels to categorical\n",
    "num_classes = len(breeds)\n",
    "y = to_categorical(y, num_classes)"
   ]
  },
  {
   "cell_type": "code",
   "execution_count": 10,
   "id": "2f4f540c-34f5-48f2-b54a-d519ea7086ad",
   "metadata": {},
   "outputs": [],
   "source": [
    "# Split dataset\n",
    "X_train, X_test, y_train, y_test = train_test_split(X, y, test_size=0.2, random_state=42)"
   ]
  },
  {
   "cell_type": "code",
   "execution_count": 12,
   "id": "5d29b209-eed2-495f-b65c-680ab0850cca",
   "metadata": {},
   "outputs": [
    {
     "name": "stderr",
     "output_type": "stream",
     "text": [
      "C:\\Users\\Indhu\\anaconda3\\Lib\\site-packages\\keras\\src\\layers\\convolutional\\base_conv.py:107: UserWarning: Do not pass an `input_shape`/`input_dim` argument to a layer. When using Sequential models, prefer using an `Input(shape)` object as the first layer in the model instead.\n",
      "  super().__init__(activity_regularizer=activity_regularizer, **kwargs)\n"
     ]
    }
   ],
   "source": [
    "# Define CNN model\n",
    "model = Sequential([\n",
    "    Conv2D(32, (3, 3), activation='relu', input_shape=IMAGE_SHAPE + (3,)),\n",
    "    MaxPooling2D(pool_size=(2, 2)),\n",
    "    Dropout(0.25),\n",
    "    \n",
    "    Conv2D(64, (3, 3), activation='relu'),\n",
    "    MaxPooling2D(pool_size=(2, 2)),\n",
    "    Dropout(0.25),\n",
    "    \n",
    "    Conv2D(128, (3, 3), activation='relu'),\n",
    "    MaxPooling2D(pool_size=(2, 2)),\n",
    "    Dropout(0.25),\n",
    "    \n",
    "    Flatten(),\n",
    "    Dense(256, activation='relu'),\n",
    "    Dropout(0.5),\n",
    "    Dense(num_classes, activation='softmax')\n",
    "])"
   ]
  },
  {
   "cell_type": "code",
   "execution_count": 14,
   "id": "35b20f76-fa86-4afd-89f0-a058132fb8ae",
   "metadata": {},
   "outputs": [],
   "source": [
    "# Compile the model\n",
    "model.compile(optimizer='adam', loss='categorical_crossentropy', metrics=['accuracy'])"
   ]
  },
  {
   "cell_type": "code",
   "execution_count": 16,
   "id": "43103794-f108-40bb-a93f-e862a67968e8",
   "metadata": {},
   "outputs": [
    {
     "name": "stdout",
     "output_type": "stream",
     "text": [
      "Epoch 1/20\n",
      "\u001b[1m116/116\u001b[0m \u001b[32m━━━━━━━━━━━━━━━━━━━━\u001b[0m\u001b[37m\u001b[0m \u001b[1m340s\u001b[0m 2s/step - accuracy: 0.0349 - loss: 3.7457 - val_accuracy: 0.0593 - val_loss: 3.3658\n",
      "Epoch 2/20\n",
      "\u001b[1m116/116\u001b[0m \u001b[32m━━━━━━━━━━━━━━━━━━━━\u001b[0m\u001b[37m\u001b[0m \u001b[1m208s\u001b[0m 2s/step - accuracy: 0.0457 - loss: 3.3660 - val_accuracy: 0.0388 - val_loss: 3.3663\n",
      "Epoch 3/20\n",
      "\u001b[1m116/116\u001b[0m \u001b[32m━━━━━━━━━━━━━━━━━━━━\u001b[0m\u001b[37m\u001b[0m \u001b[1m209s\u001b[0m 2s/step - accuracy: 0.0450 - loss: 3.3648 - val_accuracy: 0.0734 - val_loss: 3.3310\n",
      "Epoch 4/20\n",
      "\u001b[1m116/116\u001b[0m \u001b[32m━━━━━━━━━━━━━━━━━━━━\u001b[0m\u001b[37m\u001b[0m \u001b[1m212s\u001b[0m 2s/step - accuracy: 0.0562 - loss: 3.3185 - val_accuracy: 0.0647 - val_loss: 3.3326\n",
      "Epoch 5/20\n",
      "\u001b[1m116/116\u001b[0m \u001b[32m━━━━━━━━━━━━━━━━━━━━\u001b[0m\u001b[37m\u001b[0m \u001b[1m208s\u001b[0m 2s/step - accuracy: 0.0776 - loss: 3.2509 - val_accuracy: 0.1014 - val_loss: 3.2061\n",
      "Epoch 6/20\n",
      "\u001b[1m116/116\u001b[0m \u001b[32m━━━━━━━━━━━━━━━━━━━━\u001b[0m\u001b[37m\u001b[0m \u001b[1m206s\u001b[0m 2s/step - accuracy: 0.1043 - loss: 3.1175 - val_accuracy: 0.1165 - val_loss: 3.1470\n",
      "Epoch 7/20\n",
      "\u001b[1m116/116\u001b[0m \u001b[32m━━━━━━━━━━━━━━━━━━━━\u001b[0m\u001b[37m\u001b[0m \u001b[1m210s\u001b[0m 2s/step - accuracy: 0.1304 - loss: 3.0695 - val_accuracy: 0.1208 - val_loss: 3.0761\n",
      "Epoch 8/20\n",
      "\u001b[1m116/116\u001b[0m \u001b[32m━━━━━━━━━━━━━━━━━━━━\u001b[0m\u001b[37m\u001b[0m \u001b[1m210s\u001b[0m 2s/step - accuracy: 0.1708 - loss: 2.9239 - val_accuracy: 0.1294 - val_loss: 3.0232\n",
      "Epoch 9/20\n",
      "\u001b[1m116/116\u001b[0m \u001b[32m━━━━━━━━━━━━━━━━━━━━\u001b[0m\u001b[37m\u001b[0m \u001b[1m210s\u001b[0m 2s/step - accuracy: 0.1962 - loss: 2.7661 - val_accuracy: 0.1467 - val_loss: 3.0274\n",
      "Epoch 10/20\n",
      "\u001b[1m116/116\u001b[0m \u001b[32m━━━━━━━━━━━━━━━━━━━━\u001b[0m\u001b[37m\u001b[0m \u001b[1m258s\u001b[0m 2s/step - accuracy: 0.2707 - loss: 2.5206 - val_accuracy: 0.1273 - val_loss: 2.9701\n",
      "Epoch 11/20\n",
      "\u001b[1m116/116\u001b[0m \u001b[32m━━━━━━━━━━━━━━━━━━━━\u001b[0m\u001b[37m\u001b[0m \u001b[1m260s\u001b[0m 2s/step - accuracy: 0.3547 - loss: 2.2008 - val_accuracy: 0.1521 - val_loss: 3.1307\n",
      "Epoch 12/20\n",
      "\u001b[1m116/116\u001b[0m \u001b[32m━━━━━━━━━━━━━━━━━━━━\u001b[0m\u001b[37m\u001b[0m \u001b[1m207s\u001b[0m 2s/step - accuracy: 0.4259 - loss: 1.8999 - val_accuracy: 0.1467 - val_loss: 3.2137\n",
      "Epoch 13/20\n",
      "\u001b[1m116/116\u001b[0m \u001b[32m━━━━━━━━━━━━━━━━━━━━\u001b[0m\u001b[37m\u001b[0m \u001b[1m269s\u001b[0m 2s/step - accuracy: 0.5366 - loss: 1.5311 - val_accuracy: 0.1618 - val_loss: 3.4587\n",
      "Epoch 14/20\n",
      "\u001b[1m116/116\u001b[0m \u001b[32m━━━━━━━━━━━━━━━━━━━━\u001b[0m\u001b[37m\u001b[0m \u001b[1m208s\u001b[0m 2s/step - accuracy: 0.6168 - loss: 1.2737 - val_accuracy: 0.1575 - val_loss: 3.4990\n",
      "Epoch 15/20\n",
      "\u001b[1m116/116\u001b[0m \u001b[32m━━━━━━━━━━━━━━━━━━━━\u001b[0m\u001b[37m\u001b[0m \u001b[1m211s\u001b[0m 2s/step - accuracy: 0.6577 - loss: 1.1190 - val_accuracy: 0.1467 - val_loss: 3.6602\n",
      "Epoch 16/20\n",
      "\u001b[1m116/116\u001b[0m \u001b[32m━━━━━━━━━━━━━━━━━━━━\u001b[0m\u001b[37m\u001b[0m \u001b[1m256s\u001b[0m 2s/step - accuracy: 0.7078 - loss: 0.9573 - val_accuracy: 0.1499 - val_loss: 4.0531\n",
      "Epoch 17/20\n",
      "\u001b[1m116/116\u001b[0m \u001b[32m━━━━━━━━━━━━━━━━━━━━\u001b[0m\u001b[37m\u001b[0m \u001b[1m298s\u001b[0m 2s/step - accuracy: 0.7457 - loss: 0.8041 - val_accuracy: 0.1564 - val_loss: 4.1619\n",
      "Epoch 18/20\n",
      "\u001b[1m116/116\u001b[0m \u001b[32m━━━━━━━━━━━━━━━━━━━━\u001b[0m\u001b[37m\u001b[0m \u001b[1m211s\u001b[0m 2s/step - accuracy: 0.7753 - loss: 0.6941 - val_accuracy: 0.1478 - val_loss: 4.3625\n",
      "Epoch 19/20\n",
      "\u001b[1m116/116\u001b[0m \u001b[32m━━━━━━━━━━━━━━━━━━━━\u001b[0m\u001b[37m\u001b[0m \u001b[1m208s\u001b[0m 2s/step - accuracy: 0.8038 - loss: 0.5888 - val_accuracy: 0.1532 - val_loss: 4.2623\n",
      "Epoch 20/20\n",
      "\u001b[1m116/116\u001b[0m \u001b[32m━━━━━━━━━━━━━━━━━━━━\u001b[0m\u001b[37m\u001b[0m \u001b[1m207s\u001b[0m 2s/step - accuracy: 0.8370 - loss: 0.5213 - val_accuracy: 0.1478 - val_loss: 4.6885\n"
     ]
    }
   ],
   "source": [
    "# Train the model\n",
    "history = model.fit(X_train, y_train, validation_data=(X_test, y_test), batch_size=BATCH_SIZE, epochs=EPOCHS, verbose=1)"
   ]
  },
  {
   "cell_type": "code",
   "execution_count": 18,
   "id": "fcc63c81-3936-4a53-a962-d8d101703e80",
   "metadata": {},
   "outputs": [
    {
     "name": "stdout",
     "output_type": "stream",
     "text": [
      "Test Accuracy: 0.1478\n"
     ]
    }
   ],
   "source": [
    "# Evaluate the model\n",
    "test_loss, test_accuracy = model.evaluate(X_test, y_test, verbose=0)\n",
    "print(f\"Test Accuracy: {test_accuracy:.4f}\")"
   ]
  },
  {
   "cell_type": "code",
   "execution_count": 20,
   "id": "c3e0650b-a333-44a5-b225-80a54cbdf6c1",
   "metadata": {},
   "outputs": [
    {
     "name": "stdout",
     "output_type": "stream",
     "text": [
      "\u001b[1m29/29\u001b[0m \u001b[32m━━━━━━━━━━━━━━━━━━━━\u001b[0m\u001b[37m\u001b[0m \u001b[1m10s\u001b[0m 325ms/step\n",
      "                             precision    recall  f1-score   support\n",
      "\n",
      "                      boxer       0.26      0.14      0.18        37\n",
      "          Brabancon_griffon       0.30      0.26      0.28        38\n",
      "                     briard       0.12      0.06      0.08        31\n",
      "           Brittany_spaniel       0.14      0.11      0.12        36\n",
      "               bull_mastiff       0.08      0.07      0.08        27\n",
      "                      cairn       0.09      0.07      0.08        42\n",
      "                   Cardigan       0.06      0.06      0.06        36\n",
      "   Chesapeake_Bay_retriever       0.10      0.06      0.07        36\n",
      "                  Chihuahua       0.00      0.00      0.00        26\n",
      "                       chow       0.29      0.25      0.27        44\n",
      "                    clumber       0.62      0.37      0.47        27\n",
      "             cocker_spaniel       0.10      0.05      0.07        38\n",
      "                     collie       0.09      0.15      0.11        26\n",
      "     curly-coated_retriever       0.17      0.26      0.21        27\n",
      "             Dandie_Dinmont       0.28      0.25      0.26        44\n",
      "                      dhole       0.10      0.10      0.10        29\n",
      "                      dingo       0.27      0.21      0.23        34\n",
      "                   Doberman       0.07      0.09      0.08        22\n",
      "           English_foxhound       0.15      0.23      0.18        26\n",
      "             English_setter       0.10      0.11      0.11        35\n",
      "           English_springer       0.09      0.08      0.09        24\n",
      "                EntleBucher       0.11      0.25      0.15        36\n",
      "                 Eskimo_dog       0.07      0.10      0.09        29\n",
      "      flat-coated_retriever       0.18      0.25      0.21        28\n",
      "             French_bulldog       0.07      0.08      0.07        26\n",
      "            German_shepherd       0.09      0.09      0.09        32\n",
      "German_short-haired_pointer       0.18      0.21      0.20        28\n",
      "            giant_schnauzer       0.09      0.09      0.09        32\n",
      "           golden_retriever       0.17      0.16      0.17        31\n",
      "\n",
      "                   accuracy                           0.15       927\n",
      "                  macro avg       0.15      0.15      0.14       927\n",
      "               weighted avg       0.16      0.15      0.15       927\n",
      "\n"
     ]
    }
   ],
   "source": [
    "# Generate classification report\n",
    "y_pred = np.argmax(model.predict(X_test), axis=1)\n",
    "y_true = np.argmax(y_test, axis=1)\n",
    "print(classification_report(y_true, y_pred, target_names=breeds))\n"
   ]
  },
  {
   "cell_type": "code",
   "execution_count": null,
   "id": "2d0d8642-dc98-4e81-81f6-6c2e7dd07380",
   "metadata": {},
   "outputs": [],
   "source": []
  }
 ],
 "metadata": {
  "kernelspec": {
   "display_name": "Python 3 (ipykernel)",
   "language": "python",
   "name": "python3"
  },
  "language_info": {
   "codemirror_mode": {
    "name": "ipython",
    "version": 3
   },
   "file_extension": ".py",
   "mimetype": "text/x-python",
   "name": "python",
   "nbconvert_exporter": "python",
   "pygments_lexer": "ipython3",
   "version": "3.12.4"
  }
 },
 "nbformat": 4,
 "nbformat_minor": 5
}
