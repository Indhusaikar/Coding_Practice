{
 "cells": [
  {
   "cell_type": "code",
   "execution_count": 1,
   "id": "58d5bc93-616c-44c3-89d8-d97e223c0a37",
   "metadata": {},
   "outputs": [],
   "source": [
    "import numpy as np\n",
    "import os\n",
    "import pathlib\n",
    "import cv2\n",
    "from sklearn.model_selection import train_test_split, StratifiedKFold\n",
    "from sklearn.metrics import accuracy_score, classification_report, precision_score, recall_score, f1_score\n",
    "from sklearn.ensemble import RandomForestClassifier\n",
    "from sklearn.svm import SVC\n",
    "from sklearn.linear_model import LogisticRegression\n",
    "from sklearn.neighbors import KNeighborsClassifier\n",
    "from sklearn.naive_bayes import GaussianNB\n",
    "from sklearn.tree import DecisionTreeClassifier\n",
    "from keras.applications.mobilenet_v2 import MobileNetV2\n",
    "from keras.layers import GlobalAveragePooling2D\n",
    "from keras.models import Sequential"
   ]
  },
  {
   "cell_type": "code",
   "execution_count": 3,
   "id": "f6ead118-7455-4129-b5c6-4278299aa84b",
   "metadata": {},
   "outputs": [],
   "source": [
    "# Define constants\n",
    "IMAGE_SHAPE = (200, 200)  # Resize all images to this shape for MobileNetV2\n",
    "BATCH_SIZE = 100\n",
    "DATA_DIR = 'F:/indhu/Datasets/Agricultural_crops_30/'  # Update with your dataset path"
   ]
  },
  {
   "cell_type": "code",
   "execution_count": 4,
   "id": "25e6d545-d6fb-4e0d-b089-049a7e379f89",
   "metadata": {},
   "outputs": [],
   "source": [
    "# Load data\n",
    "data_dir = pathlib.Path(DATA_DIR)\n",
    "breeds = os.listdir(DATA_DIR)\n",
    "dogs_images_dict = {}\n",
    "dogs_labels_dict = {}\n",
    "X, y = [], []\n",
    "for index, category in enumerate(breeds):\n",
    "    dogs_images_dict[category] = list(data_dir.glob(category + '/*'))\n",
    "    dogs_labels_dict[category] = index\n",
    "\n",
    "for breed_name, images in dogs_images_dict.items():\n",
    "    for image in images:\n",
    "        img = cv2.imread(str(image))\n",
    "        resized_img = cv2.resize(img, IMAGE_SHAPE)\n",
    "        X.append(resized_img)\n",
    "        y.append(dogs_labels_dict[breed_name])\n",
    "\n",
    "X = np.array(X) / 255.0  # Normalize images\n",
    "y = np.array(y)\n"
   ]
  },
  {
   "cell_type": "code",
   "execution_count": 5,
   "id": "50ef499b-32fc-4e9b-9d0d-6ebf1fa6089b",
   "metadata": {},
   "outputs": [],
   "source": [
    "# Split dataset\n",
    "X_train, X_test, y_train, y_test = train_test_split(X, y, test_size=0.2, random_state=42)"
   ]
  },
  {
   "cell_type": "code",
   "execution_count": 6,
   "id": "f282d2c9-648e-41b5-9afa-190caf8ab639",
   "metadata": {},
   "outputs": [
    {
     "name": "stderr",
     "output_type": "stream",
     "text": [
      "C:\\Users\\Indhuma\\AppData\\Local\\Temp\\ipykernel_7616\\485066812.py:2: UserWarning: `input_shape` is undefined or non-square, or `rows` is not in [96, 128, 160, 192, 224]. Weights for input shape (224, 224) will be loaded as the default.\n",
      "  base_model_mobilenet = MobileNetV2(input_shape=IMAGE_SHAPE + (3,), include_top=False, weights='imagenet')\n"
     ]
    }
   ],
   "source": [
    "# Create MobileNetV2 feature extractor\n",
    "base_model_mobilenet = MobileNetV2(input_shape=IMAGE_SHAPE + (3,), include_top=False, weights='imagenet')\n",
    "base_model_mobilenet.trainable = False  # Freeze the convolutional base\n",
    "\n",
    "feature_extractor_mobilenet = Sequential([\n",
    "    base_model_mobilenet,\n",
    "    GlobalAveragePooling2D()\n",
    "])"
   ]
  },
  {
   "cell_type": "code",
   "execution_count": 7,
   "id": "d05a5fd9-5946-4d70-a227-c44d3ea7cd05",
   "metadata": {},
   "outputs": [
    {
     "name": "stdout",
     "output_type": "stream",
     "text": [
      "\u001b[1m7/7\u001b[0m \u001b[32m━━━━━━━━━━━━━━━━━━━━\u001b[0m\u001b[37m\u001b[0m \u001b[1m7s\u001b[0m 843ms/step\n",
      "\u001b[1m2/2\u001b[0m \u001b[32m━━━━━━━━━━━━━━━━━━━━\u001b[0m\u001b[37m\u001b[0m \u001b[1m1s\u001b[0m 466ms/step\n"
     ]
    }
   ],
   "source": [
    "# Extract features using MobileNetV2\n",
    "X_train_features = feature_extractor_mobilenet.predict(X_train, batch_size=BATCH_SIZE, verbose=1)\n",
    "X_test_features = feature_extractor_mobilenet.predict(X_test, batch_size=BATCH_SIZE, verbose=1)"
   ]
  },
  {
   "cell_type": "code",
   "execution_count": null,
   "id": "68310009-f611-4507-a3b9-4895796019af",
   "metadata": {},
   "outputs": [],
   "source": [
    "# Initialize classifiers\n",
    "classifiers = {\n",
    "    \"Random Forest\": RandomForestClassifier(n_estimators=100, random_state=42),\n",
    "    \"Logistic Regression\": LogisticRegression(max_iter=200, random_state=42),\n",
    "    \"K-Nearest Neighbors\": KNeighborsClassifier(n_neighbors=5),\n",
    "    \"Support Vector Machine\": SVC(kernel='rbf', probability=True, random_state=42),\n",
    "    \"Decision Tree\": DecisionTreeClassifier(random_state=42),\n",
    "    \"Naive Bayes\": GaussianNB()\n",
    "}"
   ]
  },
  {
   "cell_type": "code",
   "execution_count": null,
   "id": "62380f60-6ec0-479e-8b56-ddea6b032f5b",
   "metadata": {},
   "outputs": [],
   "source": [
    "# Evaluate classifiers using test set\n",
    "for model_name, model in classifiers.items():\n",
    "    print(f\"Evaluating {model_name}...\")\n",
    "    model.fit(X_train_features, y_train)\n",
    "    y_pred = model.predict(X_test_features)\n",
    "    print(f\"{model_name} Accuracy: {accuracy_score(y_test, y_pred):.4f}\")\n",
    "    print(classification_report(y_test, y_pred))\n"
   ]
  },
  {
   "cell_type": "code",
   "execution_count": null,
   "id": "9df41711-91c5-40c7-92c4-4be32634a3e9",
   "metadata": {},
   "outputs": [],
   "source": [
    "# Evaluate classifiers using k-fold cross-validation\n",
    "kf = StratifiedKFold(n_splits=5, shuffle=True, random_state=42)\n",
    "for clf_name, clf in classifiers.items():\n",
    "    print(f\"K-Fold Cross Validation for {clf_name}...\")\n",
    "    precision_scores = []\n",
    "    recall_scores = []\n",
    "    f1_scores = []\n",
    "    accuracy_scores = []\n",
    "\n",
    "    for train_index, val_index in kf.split(X_train_features, y_train):\n",
    "        X_train_fold, X_val_fold = X_train_features[train_index], X_train_features[val_index]\n",
    "        y_train_fold, y_val_fold = y_train[train_index], y_train[val_index]\n",
    "\n",
    "        clf.fit(X_train_fold, y_train_fold)\n",
    "        y_val_pred = clf.predict(X_val_fold)\n",
    "\n",
    "        accuracy_scores.append(accuracy_score(y_val_fold, y_val_pred))\n",
    "        precision_scores.append(precision_score(y_val_fold, y_val_pred, average='weighted'))\n",
    "        recall_scores.append(recall_score(y_val_fold, y_val_pred, average='weighted'))\n",
    "        f1_scores.append(f1_score(y_val_fold, y_val_pred, average='weighted'))\n",
    "\n",
    "    print(f\"Average Accuracy: {np.mean(accuracy_scores):.4f}\")\n",
    "    print(f\"Average Precision: {np.mean(precision_scores):.4f}\")\n",
    "    print(f\"Average Recall: {np.mean(recall_scores):.4f}\")\n",
    "    print(f\"Average F1 Score: {np.mean(f1_scores):.4f}\\n\")\n"
   ]
  }
 ],
 "metadata": {
  "kernelspec": {
   "display_name": "Python 3 (ipykernel)",
   "language": "python",
   "name": "python3"
  },
  "language_info": {
   "codemirror_mode": {
    "name": "ipython",
    "version": 3
   },
   "file_extension": ".py",
   "mimetype": "text/x-python",
   "name": "python",
   "nbconvert_exporter": "python",
   "pygments_lexer": "ipython3",
   "version": "3.12.3"
  }
 },
 "nbformat": 4,
 "nbformat_minor": 5
}
