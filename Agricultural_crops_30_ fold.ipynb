{
 "cells": [
  {
   "cell_type": "code",
   "execution_count": 1,
   "id": "58d5bc93-616c-44c3-89d8-d97e223c0a37",
   "metadata": {},
   "outputs": [],
   "source": [
    "import numpy as np\n",
    "import os\n",
    "import pathlib\n",
    "import cv2\n",
    "from sklearn.model_selection import train_test_split, StratifiedKFold\n",
    "from sklearn.metrics import accuracy_score, classification_report, precision_score, recall_score, f1_score\n",
    "from sklearn.ensemble import RandomForestClassifier\n",
    "from sklearn.svm import SVC\n",
    "from sklearn.linear_model import LogisticRegression\n",
    "from sklearn.neighbors import KNeighborsClassifier\n",
    "from sklearn.naive_bayes import GaussianNB\n",
    "from sklearn.tree import DecisionTreeClassifier\n",
    "from keras.applications.mobilenet_v2 import MobileNetV2\n",
    "from keras.layers import GlobalAveragePooling2D\n",
    "from keras.models import Sequential"
   ]
  },
  {
   "cell_type": "code",
   "execution_count": 3,
   "id": "f6ead118-7455-4129-b5c6-4278299aa84b",
   "metadata": {},
   "outputs": [],
   "source": [
    "# Define constants\n",
    "IMAGE_SHAPE = (200, 200)  # Resize all images to this shape for MobileNetV2\n",
    "BATCH_SIZE = 100\n",
    "DATA_DIR = 'F:/indhu/Datasets/Agricultural_crops_30/'  # Update with your dataset path"
   ]
  },
  {
   "cell_type": "code",
   "execution_count": 4,
   "id": "25e6d545-d6fb-4e0d-b089-049a7e379f89",
   "metadata": {},
   "outputs": [],
   "source": [
    "# Load data\n",
    "data_dir = pathlib.Path(DATA_DIR)\n",
    "breeds = os.listdir(DATA_DIR)\n",
    "dogs_images_dict = {}\n",
    "dogs_labels_dict = {}\n",
    "X, y = [], []\n",
    "for index, category in enumerate(breeds):\n",
    "    dogs_images_dict[category] = list(data_dir.glob(category + '/*'))\n",
    "    dogs_labels_dict[category] = index\n",
    "\n",
    "for breed_name, images in dogs_images_dict.items():\n",
    "    for image in images:\n",
    "        img = cv2.imread(str(image))\n",
    "        resized_img = cv2.resize(img, IMAGE_SHAPE)\n",
    "        X.append(resized_img)\n",
    "        y.append(dogs_labels_dict[breed_name])\n",
    "\n",
    "X = np.array(X) / 255.0  # Normalize images\n",
    "y = np.array(y)\n"
   ]
  },
  {
   "cell_type": "code",
   "execution_count": 5,
   "id": "50ef499b-32fc-4e9b-9d0d-6ebf1fa6089b",
   "metadata": {},
   "outputs": [],
   "source": [
    "# Split dataset\n",
    "X_train, X_test, y_train, y_test = train_test_split(X, y, test_size=0.2, random_state=42)"
   ]
  },
  {
   "cell_type": "code",
   "execution_count": 6,
   "id": "f282d2c9-648e-41b5-9afa-190caf8ab639",
   "metadata": {},
   "outputs": [
    {
     "name": "stderr",
     "output_type": "stream",
     "text": [
      "C:\\Users\\Indhuma\\AppData\\Local\\Temp\\ipykernel_7616\\485066812.py:2: UserWarning: `input_shape` is undefined or non-square, or `rows` is not in [96, 128, 160, 192, 224]. Weights for input shape (224, 224) will be loaded as the default.\n",
      "  base_model_mobilenet = MobileNetV2(input_shape=IMAGE_SHAPE + (3,), include_top=False, weights='imagenet')\n"
     ]
    }
   ],
   "source": [
    "# Create MobileNetV2 feature extractor\n",
    "base_model_mobilenet = MobileNetV2(input_shape=IMAGE_SHAPE + (3,), include_top=False, weights='imagenet')\n",
    "base_model_mobilenet.trainable = False  # Freeze the convolutional base\n",
    "\n",
    "feature_extractor_mobilenet = Sequential([\n",
    "    base_model_mobilenet,\n",
    "    GlobalAveragePooling2D()\n",
    "])"
   ]
  },
  {
   "cell_type": "code",
   "execution_count": 7,
   "id": "d05a5fd9-5946-4d70-a227-c44d3ea7cd05",
   "metadata": {},
   "outputs": [
    {
     "name": "stdout",
     "output_type": "stream",
     "text": [
      "\u001b[1m7/7\u001b[0m \u001b[32m━━━━━━━━━━━━━━━━━━━━\u001b[0m\u001b[37m\u001b[0m \u001b[1m7s\u001b[0m 843ms/step\n",
      "\u001b[1m2/2\u001b[0m \u001b[32m━━━━━━━━━━━━━━━━━━━━\u001b[0m\u001b[37m\u001b[0m \u001b[1m1s\u001b[0m 466ms/step\n"
     ]
    }
   ],
   "source": [
    "# Extract features using MobileNetV2\n",
    "X_train_features = feature_extractor_mobilenet.predict(X_train, batch_size=BATCH_SIZE, verbose=1)\n",
    "X_test_features = feature_extractor_mobilenet.predict(X_test, batch_size=BATCH_SIZE, verbose=1)"
   ]
  },
  {
   "cell_type": "code",
   "execution_count": 8,
   "id": "68310009-f611-4507-a3b9-4895796019af",
   "metadata": {},
   "outputs": [],
   "source": [
    "# Initialize classifiers\n",
    "classifiers = {\n",
    "    \"Random Forest\": RandomForestClassifier(n_estimators=100, random_state=42),\n",
    "    \"Logistic Regression\": LogisticRegression(max_iter=200, random_state=42),\n",
    "    \"K-Nearest Neighbors\": KNeighborsClassifier(n_neighbors=5),\n",
    "    \"Support Vector Machine\": SVC(kernel='rbf', probability=True, random_state=42),\n",
    "    \"Decision Tree\": DecisionTreeClassifier(random_state=42),\n",
    "    \"Naive Bayes\": GaussianNB()\n",
    "}"
   ]
  },
  {
   "cell_type": "code",
   "execution_count": 9,
   "id": "62380f60-6ec0-479e-8b56-ddea6b032f5b",
   "metadata": {},
   "outputs": [
    {
     "name": "stdout",
     "output_type": "stream",
     "text": [
      "Evaluating Random Forest...\n",
      "Random Forest Accuracy: 0.5000\n",
      "              precision    recall  f1-score   support\n",
      "\n",
      "           0       1.00      0.25      0.40         4\n",
      "           1       0.25      0.29      0.27         7\n",
      "           2       1.00      0.33      0.50         6\n",
      "           3       0.57      0.44      0.50         9\n",
      "           4       0.40      0.50      0.44         4\n",
      "           5       0.40      0.67      0.50         3\n",
      "           6       1.00      1.00      1.00         2\n",
      "           7       0.33      0.14      0.20         7\n",
      "           8       0.33      0.60      0.43         5\n",
      "           9       0.50      0.43      0.46         7\n",
      "          10       0.50      0.25      0.33         4\n",
      "          11       0.00      0.00      0.00         3\n",
      "          12       0.56      1.00      0.71         5\n",
      "          13       1.00      0.71      0.83         7\n",
      "          14       0.29      0.50      0.36         4\n",
      "          15       0.40      0.22      0.29         9\n",
      "          16       0.64      0.88      0.74         8\n",
      "          17       0.50      0.67      0.57         3\n",
      "          18       0.00      0.00      0.00         2\n",
      "          19       0.57      0.67      0.62        12\n",
      "          20       0.25      1.00      0.40         1\n",
      "          21       0.36      1.00      0.53         4\n",
      "          22       0.75      0.67      0.71         9\n",
      "          23       0.00      0.00      0.00         5\n",
      "          24       1.00      0.86      0.92         7\n",
      "          25       0.43      0.75      0.55         4\n",
      "          26       0.36      0.80      0.50         5\n",
      "          27       0.00      0.00      0.00         5\n",
      "          28       0.00      0.00      0.00         7\n",
      "          29       0.83      0.62      0.71         8\n",
      "\n",
      "    accuracy                           0.50       166\n",
      "   macro avg       0.47      0.51      0.45       166\n",
      "weighted avg       0.51      0.50      0.47       166\n",
      "\n",
      "Evaluating Logistic Regression...\n"
     ]
    },
    {
     "name": "stderr",
     "output_type": "stream",
     "text": [
      "C:\\Users\\Indhuma\\anaconda3\\Lib\\site-packages\\sklearn\\metrics\\_classification.py:1509: UndefinedMetricWarning: Precision is ill-defined and being set to 0.0 in labels with no predicted samples. Use `zero_division` parameter to control this behavior.\n",
      "  _warn_prf(average, modifier, f\"{metric.capitalize()} is\", len(result))\n",
      "C:\\Users\\Indhuma\\anaconda3\\Lib\\site-packages\\sklearn\\metrics\\_classification.py:1509: UndefinedMetricWarning: Precision is ill-defined and being set to 0.0 in labels with no predicted samples. Use `zero_division` parameter to control this behavior.\n",
      "  _warn_prf(average, modifier, f\"{metric.capitalize()} is\", len(result))\n",
      "C:\\Users\\Indhuma\\anaconda3\\Lib\\site-packages\\sklearn\\metrics\\_classification.py:1509: UndefinedMetricWarning: Precision is ill-defined and being set to 0.0 in labels with no predicted samples. Use `zero_division` parameter to control this behavior.\n",
      "  _warn_prf(average, modifier, f\"{metric.capitalize()} is\", len(result))\n"
     ]
    },
    {
     "name": "stdout",
     "output_type": "stream",
     "text": [
      "Logistic Regression Accuracy: 0.6867\n",
      "              precision    recall  f1-score   support\n",
      "\n",
      "           0       1.00      0.50      0.67         4\n",
      "           1       0.50      0.43      0.46         7\n",
      "           2       0.67      0.67      0.67         6\n",
      "           3       0.83      0.56      0.67         9\n",
      "           4       1.00      1.00      1.00         4\n",
      "           5       1.00      1.00      1.00         3\n",
      "           6       1.00      1.00      1.00         2\n",
      "           7       0.43      0.43      0.43         7\n",
      "           8       0.67      0.80      0.73         5\n",
      "           9       0.60      0.86      0.71         7\n",
      "          10       0.67      1.00      0.80         4\n",
      "          11       0.25      0.33      0.29         3\n",
      "          12       0.71      1.00      0.83         5\n",
      "          13       0.67      0.57      0.62         7\n",
      "          14       0.50      0.75      0.60         4\n",
      "          15       0.60      0.67      0.63         9\n",
      "          16       0.88      0.88      0.88         8\n",
      "          17       1.00      1.00      1.00         3\n",
      "          18       1.00      0.50      0.67         2\n",
      "          19       0.91      0.83      0.87        12\n",
      "          20       1.00      1.00      1.00         1\n",
      "          21       0.50      1.00      0.67         4\n",
      "          22       0.88      0.78      0.82         9\n",
      "          23       0.00      0.00      0.00         5\n",
      "          24       1.00      0.71      0.83         7\n",
      "          25       0.50      0.75      0.60         4\n",
      "          26       0.80      0.80      0.80         5\n",
      "          27       0.33      0.20      0.25         5\n",
      "          28       0.33      0.29      0.31         7\n",
      "          29       1.00      0.88      0.93         8\n",
      "\n",
      "    accuracy                           0.69       166\n",
      "   macro avg       0.71      0.71      0.69       166\n",
      "weighted avg       0.70      0.69      0.68       166\n",
      "\n",
      "Evaluating K-Nearest Neighbors...\n",
      "K-Nearest Neighbors Accuracy: 0.5663\n",
      "              precision    recall  f1-score   support\n",
      "\n",
      "           0       0.40      0.50      0.44         4\n",
      "           1       0.33      0.43      0.38         7\n",
      "           2       0.31      0.83      0.45         6\n",
      "           3       0.62      0.56      0.59         9\n",
      "           4       0.67      0.50      0.57         4\n",
      "           5       0.33      0.67      0.44         3\n",
      "           6       1.00      0.50      0.67         2\n",
      "           7       0.00      0.00      0.00         7\n",
      "           8       0.50      0.60      0.55         5\n",
      "           9       0.67      0.86      0.75         7\n",
      "          10       1.00      0.50      0.67         4\n",
      "          11       0.25      0.33      0.29         3\n",
      "          12       0.80      0.80      0.80         5\n",
      "          13       1.00      0.71      0.83         7\n",
      "          14       0.40      0.50      0.44         4\n",
      "          15       0.62      0.56      0.59         9\n",
      "          16       0.54      0.88      0.67         8\n",
      "          17       1.00      1.00      1.00         3\n",
      "          18       0.50      0.50      0.50         2\n",
      "          19       0.71      0.83      0.77        12\n",
      "          20       0.50      1.00      0.67         1\n",
      "          21       0.43      0.75      0.55         4\n",
      "          22       0.80      0.44      0.57         9\n",
      "          23       0.67      0.40      0.50         5\n",
      "          24       1.00      0.57      0.73         7\n",
      "          25       0.43      0.75      0.55         4\n",
      "          26       0.60      0.60      0.60         5\n",
      "          27       0.33      0.20      0.25         5\n",
      "          28       0.33      0.14      0.20         7\n",
      "          29       1.00      0.38      0.55         8\n",
      "\n",
      "    accuracy                           0.57       166\n",
      "   macro avg       0.59      0.58      0.55       166\n",
      "weighted avg       0.61      0.57      0.55       166\n",
      "\n",
      "Evaluating Support Vector Machine...\n"
     ]
    },
    {
     "name": "stderr",
     "output_type": "stream",
     "text": [
      "C:\\Users\\Indhuma\\anaconda3\\Lib\\site-packages\\sklearn\\metrics\\_classification.py:1509: UndefinedMetricWarning: Precision is ill-defined and being set to 0.0 in labels with no predicted samples. Use `zero_division` parameter to control this behavior.\n",
      "  _warn_prf(average, modifier, f\"{metric.capitalize()} is\", len(result))\n",
      "C:\\Users\\Indhuma\\anaconda3\\Lib\\site-packages\\sklearn\\metrics\\_classification.py:1509: UndefinedMetricWarning: Precision is ill-defined and being set to 0.0 in labels with no predicted samples. Use `zero_division` parameter to control this behavior.\n",
      "  _warn_prf(average, modifier, f\"{metric.capitalize()} is\", len(result))\n",
      "C:\\Users\\Indhuma\\anaconda3\\Lib\\site-packages\\sklearn\\metrics\\_classification.py:1509: UndefinedMetricWarning: Precision is ill-defined and being set to 0.0 in labels with no predicted samples. Use `zero_division` parameter to control this behavior.\n",
      "  _warn_prf(average, modifier, f\"{metric.capitalize()} is\", len(result))\n"
     ]
    },
    {
     "name": "stdout",
     "output_type": "stream",
     "text": [
      "Support Vector Machine Accuracy: 0.6928\n",
      "              precision    recall  f1-score   support\n",
      "\n",
      "           0       1.00      0.50      0.67         4\n",
      "           1       0.60      0.43      0.50         7\n",
      "           2       0.80      0.67      0.73         6\n",
      "           3       0.75      0.67      0.71         9\n",
      "           4       1.00      1.00      1.00         4\n",
      "           5       1.00      1.00      1.00         3\n",
      "           6       1.00      0.50      0.67         2\n",
      "           7       0.50      0.29      0.36         7\n",
      "           8       0.57      0.80      0.67         5\n",
      "           9       0.60      0.86      0.71         7\n",
      "          10       0.67      1.00      0.80         4\n",
      "          11       0.33      0.67      0.44         3\n",
      "          12       0.71      1.00      0.83         5\n",
      "          13       0.80      0.57      0.67         7\n",
      "          14       0.60      0.75      0.67         4\n",
      "          15       0.78      0.78      0.78         9\n",
      "          16       0.88      0.88      0.88         8\n",
      "          17       0.50      1.00      0.67         3\n",
      "          18       0.50      0.50      0.50         2\n",
      "          19       0.83      0.83      0.83        12\n",
      "          20       0.50      1.00      0.67         1\n",
      "          21       0.57      1.00      0.73         4\n",
      "          22       1.00      0.67      0.80         9\n",
      "          23       0.25      0.20      0.22         5\n",
      "          24       1.00      0.71      0.83         7\n",
      "          25       0.60      0.75      0.67         4\n",
      "          26       0.40      0.80      0.53         5\n",
      "          27       1.00      0.20      0.33         5\n",
      "          28       0.50      0.29      0.36         7\n",
      "          29       1.00      0.88      0.93         8\n",
      "\n",
      "    accuracy                           0.69       166\n",
      "   macro avg       0.71      0.71      0.67       166\n",
      "weighted avg       0.73      0.69      0.69       166\n",
      "\n",
      "Evaluating Decision Tree...\n",
      "Decision Tree Accuracy: 0.2289\n",
      "              precision    recall  f1-score   support\n",
      "\n",
      "           0       0.00      0.00      0.00         4\n",
      "           1       0.00      0.00      0.00         7\n",
      "           2       0.17      0.33      0.22         6\n",
      "           3       0.20      0.11      0.14         9\n",
      "           4       0.00      0.00      0.00         4\n",
      "           5       0.00      0.00      0.00         3\n",
      "           6       0.20      0.50      0.29         2\n",
      "           7       0.00      0.00      0.00         7\n",
      "           8       0.43      0.60      0.50         5\n",
      "           9       0.00      0.00      0.00         7\n",
      "          10       0.00      0.00      0.00         4\n",
      "          11       0.00      0.00      0.00         3\n",
      "          12       0.33      0.40      0.36         5\n",
      "          13       0.40      0.29      0.33         7\n",
      "          14       0.50      0.25      0.33         4\n",
      "          15       0.17      0.11      0.13         9\n",
      "          16       0.43      0.38      0.40         8\n",
      "          17       0.40      0.67      0.50         3\n",
      "          18       0.50      0.50      0.50         2\n",
      "          19       0.57      0.33      0.42        12\n",
      "          20       0.00      0.00      0.00         1\n",
      "          21       0.17      0.25      0.20         4\n",
      "          22       0.25      0.22      0.24         9\n",
      "          23       0.00      0.00      0.00         5\n",
      "          24       0.33      0.43      0.38         7\n",
      "          25       0.50      0.50      0.50         4\n",
      "          26       0.17      0.40      0.24         5\n",
      "          27       0.20      0.20      0.20         5\n",
      "          28       0.17      0.14      0.15         7\n",
      "          29       0.50      0.38      0.43         8\n",
      "\n",
      "    accuracy                           0.23       166\n",
      "   macro avg       0.22      0.23      0.22       166\n",
      "weighted avg       0.24      0.23      0.23       166\n",
      "\n",
      "Evaluating Naive Bayes...\n",
      "Naive Bayes Accuracy: 0.5060\n",
      "              precision    recall  f1-score   support\n",
      "\n",
      "           0       0.50      0.25      0.33         4\n",
      "           1       0.40      0.57      0.47         7\n",
      "           2       0.38      0.50      0.43         6\n",
      "           3       0.40      0.22      0.29         9\n",
      "           4       0.75      0.75      0.75         4\n",
      "           5       1.00      0.33      0.50         3\n",
      "           6       0.50      0.50      0.50         2\n",
      "           7       0.00      0.00      0.00         7\n",
      "           8       0.29      1.00      0.45         5\n",
      "           9       1.00      0.57      0.73         7\n",
      "          10       0.60      0.75      0.67         4\n",
      "          11       0.25      0.33      0.29         3\n",
      "          12       0.43      0.60      0.50         5\n",
      "          13       0.50      0.57      0.53         7\n",
      "          14       0.50      0.75      0.60         4\n",
      "          15       0.44      0.44      0.44         9\n",
      "          16       0.75      0.38      0.50         8\n",
      "          17       0.18      0.67      0.29         3\n",
      "          18       0.20      0.50      0.29         2\n",
      "          19       0.80      0.67      0.73        12\n",
      "          20       0.50      1.00      0.67         1\n",
      "          21       0.60      0.75      0.67         4\n",
      "          22       1.00      0.56      0.71         9\n",
      "          23       1.00      0.20      0.33         5\n",
      "          24       0.80      0.57      0.67         7\n",
      "          25       0.50      0.75      0.60         4\n",
      "          26       0.40      0.40      0.40         5\n",
      "          27       0.00      0.00      0.00         5\n",
      "          28       0.60      0.43      0.50         7\n",
      "          29       0.86      0.75      0.80         8\n",
      "\n",
      "    accuracy                           0.51       166\n",
      "   macro avg       0.54      0.53      0.49       166\n",
      "weighted avg       0.57      0.51      0.50       166\n",
      "\n"
     ]
    },
    {
     "name": "stderr",
     "output_type": "stream",
     "text": [
      "C:\\Users\\Indhuma\\anaconda3\\Lib\\site-packages\\sklearn\\metrics\\_classification.py:1509: UndefinedMetricWarning: Precision is ill-defined and being set to 0.0 in labels with no predicted samples. Use `zero_division` parameter to control this behavior.\n",
      "  _warn_prf(average, modifier, f\"{metric.capitalize()} is\", len(result))\n",
      "C:\\Users\\Indhuma\\anaconda3\\Lib\\site-packages\\sklearn\\metrics\\_classification.py:1509: UndefinedMetricWarning: Precision is ill-defined and being set to 0.0 in labels with no predicted samples. Use `zero_division` parameter to control this behavior.\n",
      "  _warn_prf(average, modifier, f\"{metric.capitalize()} is\", len(result))\n",
      "C:\\Users\\Indhuma\\anaconda3\\Lib\\site-packages\\sklearn\\metrics\\_classification.py:1509: UndefinedMetricWarning: Precision is ill-defined and being set to 0.0 in labels with no predicted samples. Use `zero_division` parameter to control this behavior.\n",
      "  _warn_prf(average, modifier, f\"{metric.capitalize()} is\", len(result))\n"
     ]
    }
   ],
   "source": [
    "# Evaluate classifiers using test set\n",
    "for model_name, model in classifiers.items():\n",
    "    print(f\"Evaluating {model_name}...\")\n",
    "    model.fit(X_train_features, y_train)\n",
    "    y_pred = model.predict(X_test_features)\n",
    "    print(f\"{model_name} Accuracy: {accuracy_score(y_test, y_pred):.4f}\")\n",
    "    print(classification_report(y_test, y_pred))\n"
   ]
  },
  {
   "cell_type": "code",
   "execution_count": 11,
   "id": "9df41711-91c5-40c7-92c4-4be32634a3e9",
   "metadata": {},
   "outputs": [
    {
     "name": "stdout",
     "output_type": "stream",
     "text": [
      "K-Fold Cross Validation for Random Forest...\n"
     ]
    },
    {
     "name": "stderr",
     "output_type": "stream",
     "text": [
      "C:\\Users\\Indhuma\\anaconda3\\Lib\\site-packages\\sklearn\\metrics\\_classification.py:1509: UndefinedMetricWarning: Precision is ill-defined and being set to 0.0 in labels with no predicted samples. Use `zero_division` parameter to control this behavior.\n",
      "  _warn_prf(average, modifier, f\"{metric.capitalize()} is\", len(result))\n",
      "C:\\Users\\Indhuma\\anaconda3\\Lib\\site-packages\\sklearn\\metrics\\_classification.py:1509: UndefinedMetricWarning: Precision is ill-defined and being set to 0.0 in labels with no predicted samples. Use `zero_division` parameter to control this behavior.\n",
      "  _warn_prf(average, modifier, f\"{metric.capitalize()} is\", len(result))\n",
      "C:\\Users\\Indhuma\\anaconda3\\Lib\\site-packages\\sklearn\\metrics\\_classification.py:1509: UndefinedMetricWarning: Precision is ill-defined and being set to 0.0 in labels with no predicted samples. Use `zero_division` parameter to control this behavior.\n",
      "  _warn_prf(average, modifier, f\"{metric.capitalize()} is\", len(result))\n",
      "C:\\Users\\Indhuma\\anaconda3\\Lib\\site-packages\\sklearn\\metrics\\_classification.py:1509: UndefinedMetricWarning: Precision is ill-defined and being set to 0.0 in labels with no predicted samples. Use `zero_division` parameter to control this behavior.\n",
      "  _warn_prf(average, modifier, f\"{metric.capitalize()} is\", len(result))\n"
     ]
    },
    {
     "name": "stdout",
     "output_type": "stream",
     "text": [
      "Average Accuracy: 0.5385\n",
      "Average Precision: 0.5445\n",
      "Average Recall: 0.5385\n",
      "Average F1 Score: 0.5144\n",
      "\n",
      "K-Fold Cross Validation for Logistic Regression...\n",
      "Average Accuracy: 0.7029\n",
      "Average Precision: 0.7344\n",
      "Average Recall: 0.7029\n",
      "Average F1 Score: 0.6979\n",
      "\n",
      "K-Fold Cross Validation for K-Nearest Neighbors...\n"
     ]
    },
    {
     "name": "stderr",
     "output_type": "stream",
     "text": [
      "C:\\Users\\Indhuma\\anaconda3\\Lib\\site-packages\\sklearn\\metrics\\_classification.py:1509: UndefinedMetricWarning: Precision is ill-defined and being set to 0.0 in labels with no predicted samples. Use `zero_division` parameter to control this behavior.\n",
      "  _warn_prf(average, modifier, f\"{metric.capitalize()} is\", len(result))\n"
     ]
    },
    {
     "name": "stdout",
     "output_type": "stream",
     "text": [
      "Average Accuracy: 0.5445\n",
      "Average Precision: 0.6061\n",
      "Average Recall: 0.5445\n",
      "Average F1 Score: 0.5396\n",
      "\n",
      "K-Fold Cross Validation for Support Vector Machine...\n"
     ]
    },
    {
     "name": "stderr",
     "output_type": "stream",
     "text": [
      "C:\\Users\\Indhuma\\anaconda3\\Lib\\site-packages\\sklearn\\metrics\\_classification.py:1509: UndefinedMetricWarning: Precision is ill-defined and being set to 0.0 in labels with no predicted samples. Use `zero_division` parameter to control this behavior.\n",
      "  _warn_prf(average, modifier, f\"{metric.capitalize()} is\", len(result))\n",
      "C:\\Users\\Indhuma\\anaconda3\\Lib\\site-packages\\sklearn\\metrics\\_classification.py:1509: UndefinedMetricWarning: Precision is ill-defined and being set to 0.0 in labels with no predicted samples. Use `zero_division` parameter to control this behavior.\n",
      "  _warn_prf(average, modifier, f\"{metric.capitalize()} is\", len(result))\n",
      "C:\\Users\\Indhuma\\anaconda3\\Lib\\site-packages\\sklearn\\metrics\\_classification.py:1509: UndefinedMetricWarning: Precision is ill-defined and being set to 0.0 in labels with no predicted samples. Use `zero_division` parameter to control this behavior.\n",
      "  _warn_prf(average, modifier, f\"{metric.capitalize()} is\", len(result))\n"
     ]
    },
    {
     "name": "stdout",
     "output_type": "stream",
     "text": [
      "Average Accuracy: 0.6743\n",
      "Average Precision: 0.7116\n",
      "Average Recall: 0.6743\n",
      "Average F1 Score: 0.6666\n",
      "\n",
      "K-Fold Cross Validation for Decision Tree...\n"
     ]
    },
    {
     "name": "stderr",
     "output_type": "stream",
     "text": [
      "C:\\Users\\Indhuma\\anaconda3\\Lib\\site-packages\\sklearn\\metrics\\_classification.py:1509: UndefinedMetricWarning: Precision is ill-defined and being set to 0.0 in labels with no predicted samples. Use `zero_division` parameter to control this behavior.\n",
      "  _warn_prf(average, modifier, f\"{metric.capitalize()} is\", len(result))\n"
     ]
    },
    {
     "name": "stdout",
     "output_type": "stream",
     "text": [
      "Average Accuracy: 0.1991\n",
      "Average Precision: 0.2310\n",
      "Average Recall: 0.1991\n",
      "Average F1 Score: 0.2003\n",
      "\n",
      "K-Fold Cross Validation for Naive Bayes...\n"
     ]
    },
    {
     "name": "stderr",
     "output_type": "stream",
     "text": [
      "C:\\Users\\Indhuma\\anaconda3\\Lib\\site-packages\\sklearn\\metrics\\_classification.py:1509: UndefinedMetricWarning: Precision is ill-defined and being set to 0.0 in labels with no predicted samples. Use `zero_division` parameter to control this behavior.\n",
      "  _warn_prf(average, modifier, f\"{metric.capitalize()} is\", len(result))\n",
      "C:\\Users\\Indhuma\\anaconda3\\Lib\\site-packages\\sklearn\\metrics\\_classification.py:1509: UndefinedMetricWarning: Precision is ill-defined and being set to 0.0 in labels with no predicted samples. Use `zero_division` parameter to control this behavior.\n",
      "  _warn_prf(average, modifier, f\"{metric.capitalize()} is\", len(result))\n",
      "C:\\Users\\Indhuma\\anaconda3\\Lib\\site-packages\\sklearn\\metrics\\_classification.py:1509: UndefinedMetricWarning: Precision is ill-defined and being set to 0.0 in labels with no predicted samples. Use `zero_division` parameter to control this behavior.\n",
      "  _warn_prf(average, modifier, f\"{metric.capitalize()} is\", len(result))\n"
     ]
    },
    {
     "name": "stdout",
     "output_type": "stream",
     "text": [
      "Average Accuracy: 0.4707\n",
      "Average Precision: 0.5736\n",
      "Average Recall: 0.4707\n",
      "Average F1 Score: 0.4630\n",
      "\n"
     ]
    },
    {
     "name": "stderr",
     "output_type": "stream",
     "text": [
      "C:\\Users\\Indhuma\\anaconda3\\Lib\\site-packages\\sklearn\\metrics\\_classification.py:1509: UndefinedMetricWarning: Precision is ill-defined and being set to 0.0 in labels with no predicted samples. Use `zero_division` parameter to control this behavior.\n",
      "  _warn_prf(average, modifier, f\"{metric.capitalize()} is\", len(result))\n"
     ]
    }
   ],
   "source": [
    "# Evaluate classifiers using k-fold cross-validation\n",
    "kf = StratifiedKFold(n_splits=5, shuffle=True, random_state=42)\n",
    "for clf_name, clf in classifiers.items():\n",
    "    print(f\"K-Fold Cross Validation for {clf_name}...\")\n",
    "    precision_scores = []\n",
    "    recall_scores = []\n",
    "    f1_scores = []\n",
    "    accuracy_scores = []\n",
    "\n",
    "    for train_index, val_index in kf.split(X_train_features, y_train):\n",
    "        X_train_fold, X_val_fold = X_train_features[train_index], X_train_features[val_index]\n",
    "        y_train_fold, y_val_fold = y_train[train_index], y_train[val_index]\n",
    "\n",
    "        clf.fit(X_train_fold, y_train_fold)\n",
    "        y_val_pred = clf.predict(X_val_fold)\n",
    "\n",
    "        accuracy_scores.append(accuracy_score(y_val_fold, y_val_pred))\n",
    "        precision_scores.append(precision_score(y_val_fold, y_val_pred, average='weighted'))\n",
    "        recall_scores.append(recall_score(y_val_fold, y_val_pred, average='weighted'))\n",
    "        f1_scores.append(f1_score(y_val_fold, y_val_pred, average='weighted'))\n",
    "\n",
    "    print(f\"Average Accuracy: {np.mean(accuracy_scores):.4f}\")\n",
    "    print(f\"Average Precision: {np.mean(precision_scores):.4f}\")\n",
    "    print(f\"Average Recall: {np.mean(recall_scores):.4f}\")\n",
    "    print(f\"Average F1 Score: {np.mean(f1_scores):.4f}\\n\")\n"
   ]
  },
  {
   "cell_type": "code",
   "execution_count": null,
   "id": "ede3bc38-c6b2-4b1c-9563-15d78103fb0c",
   "metadata": {},
   "outputs": [],
   "source": []
  }
 ],
 "metadata": {
  "kernelspec": {
   "display_name": "Python 3 (ipykernel)",
   "language": "python",
   "name": "python3"
  },
  "language_info": {
   "codemirror_mode": {
    "name": "ipython",
    "version": 3
   },
   "file_extension": ".py",
   "mimetype": "text/x-python",
   "name": "python",
   "nbconvert_exporter": "python",
   "pygments_lexer": "ipython3",
   "version": "3.12.3"
  }
 },
 "nbformat": 4,
 "nbformat_minor": 5
}
