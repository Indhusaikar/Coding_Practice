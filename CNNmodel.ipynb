{
 "cells": [
  {
   "cell_type": "code",
   "execution_count": 13,
   "id": "dfb65b47",
   "metadata": {},
   "outputs": [],
   "source": [
    "# Set random seed for reproducibility\n",
    "torch.manual_seed(42)\n",
    "import numpy as np\n",
    "import torch\n",
    "import torch.nn as nn\n",
    "import torch.optim as optim\n",
    "from torch.utils.data import DataLoader, random_split\n",
    "from torchvision import datasets, transforms\n",
    "import matplotlib.pyplot as plt\n",
    "import seaborn as sns\n",
    "from sklearn.metrics import classification_report, confusion_matrix"
   ]
  },
  {
   "cell_type": "code",
   "execution_count": 14,
   "id": "3ff7bc3e",
   "metadata": {},
   "outputs": [],
   "source": [
    "\n",
    "# -----------------------\n",
    "# CONFIGURATION VARIABLES\n",
    "# -----------------------\n",
    "image_size = 224  # Resize images to 224x224 pixels\n",
    "num_classes = 2  # Binary classification: COVID and Non-COVID\n",
    "activation_function = 'relu'  # Hidden layer activation function\n",
    "num_epochs = 10\n",
    "learning_rate = 0.0001\n",
    "batch_size = 16\n",
    "use_early_stopping = True\n",
    "patience = 3\n",
    "dropout_rate = 0.5\n",
    "train_split_ratio = 0.8  # Ratio of the dataset to use for training\n"
   ]
  },
  {
   "cell_type": "code",
   "execution_count": 15,
   "id": "947c5013",
   "metadata": {},
   "outputs": [],
   "source": [
    "# Set random seed for reproducibility\n",
    "torch.manual_seed(42)\n",
    "np.random.seed(42)"
   ]
  },
  {
   "cell_type": "code",
   "execution_count": 16,
   "id": "812b1e31",
   "metadata": {},
   "outputs": [],
   "source": [
    "\n",
    "# Set device (GPU preferable for deep learning)\n",
    "device = torch.device('cuda' if torch.cuda.is_available() else 'cpu')"
   ]
  },
  {
   "cell_type": "code",
   "execution_count": 17,
   "id": "c2b65885",
   "metadata": {},
   "outputs": [],
   "source": [
    "# Define activation function\n",
    "def get_activation_function(name):\n",
    "    if name == 'relu':\n",
    "        return nn.ReLU()\n",
    "    elif name == 'leaky_relu':\n",
    "        return nn.LeakyReLU(negative_slope=0.01)\n",
    "    elif name == 'sigmoid':\n",
    "        return nn.Sigmoid()\n",
    "    elif name == 'tanh':\n",
    "        return nn.Tanh()\n",
    "    else:\n",
    "        raise ValueError(f\"Invalid activation function name: {name}\")"
   ]
  },
  {
   "cell_type": "code",
   "execution_count": 18,
   "id": "4872700d",
   "metadata": {},
   "outputs": [],
   "source": [
    "# Image transformations\n",
    "transform = transforms.Compose([\n",
    "    transforms.Resize((image_size, image_size)),\n",
    "    transforms.ToTensor(),\n",
    "    transforms.Normalize(mean=[0.5], std=[0.5])  # Normalize images to [-1, 1]\n",
    "])"
   ]
  },
  {
   "cell_type": "code",
   "execution_count": 19,
   "id": "1ad3fa9e",
   "metadata": {},
   "outputs": [],
   "source": [
    "# Load entire dataset using ImageFolder (folder structure-based dataset organization)\n",
    "data_dir = \"C:/Users/Indhuma/Downloads/ctscan-dataset/\"\n",
    "dataset = datasets.ImageFolder(root=data_dir, transform=transform)"
   ]
  },
  {
   "cell_type": "code",
   "execution_count": 20,
   "id": "9b0cb95d",
   "metadata": {},
   "outputs": [],
   "source": [
    "\n",
    "# Split dataset into training and test sets\n",
    "train_size = int(train_split_ratio * len(dataset))\n",
    "test_size = len(dataset) - train_size\n",
    "train_dataset, test_dataset = random_split(dataset, [train_size, test_size])"
   ]
  },
  {
   "cell_type": "code",
   "execution_count": 21,
   "id": "929cd0a7",
   "metadata": {},
   "outputs": [],
   "source": [
    "\n",
    "\n",
    "# DataLoaders\n",
    "train_loader = DataLoader(train_dataset, batch_size=batch_size, shuffle=True)\n",
    "test_loader = DataLoader(test_dataset, batch_size=batch_size, shuffle=False)"
   ]
  },
  {
   "cell_type": "code",
   "execution_count": 22,
   "id": "f2e0f6e0",
   "metadata": {},
   "outputs": [],
   "source": [
    "# Define the CNN model\n",
    "class CNN(nn.Module):\n",
    "    def __init__(self, num_classes, dropout_rate, activation_function):\n",
    "        super(CNN, self).__init__()\n",
    "\n",
    "        self.conv1 = nn.Conv2d(in_channels=3, out_channels=16, kernel_size=3, padding=1)\n",
    "        self.conv2 = nn.Conv2d(in_channels=16, out_channels=32, kernel_size=3, padding=1)\n",
    "        self.conv3 = nn.Conv2d(in_channels=32, out_channels=64, kernel_size=3, padding=1)\n",
    "\n",
    "        self.pool = nn.MaxPool2d(kernel_size=2, stride=2)\n",
    "        self.dropout = nn.Dropout(p=dropout_rate)\n",
    "        self.activation_function = get_activation_function(activation_function)\n",
    "\n",
    "        self.fc1 = nn.Linear(64 * (image_size // 8) * (image_size // 8), 128)\n",
    "        self.fc2 = nn.Linear(128, num_classes)\n",
    "\n",
    "    def forward(self, x):\n",
    "        x = self.pool(self.activation_function(self.conv1(x)))\n",
    "        x = self.pool(self.activation_function(self.conv2(x)))\n",
    "        x = self.pool(self.activation_function(self.conv3(x)))\n",
    "\n",
    "        x = x.view(x.size(0), -1)  # Flatten\n",
    "        x = self.activation_function(self.fc1(x))\n",
    "        x = self.dropout(x)\n",
    "        x = self.fc2(x)\n",
    "\n",
    "        return x"
   ]
  },
  {
   "cell_type": "code",
   "execution_count": 23,
   "id": "79ed792c",
   "metadata": {},
   "outputs": [],
   "source": [
    "# Initialize the model, loss function, and optimizer\n",
    "model = CNN(num_classes=num_classes, dropout_rate=dropout_rate, activation_function=activation_function).to(device)\n",
    "criterion = nn.CrossEntropyLoss()\n",
    "optimizer = optim.Adam(model.parameters(), lr=learning_rate)"
   ]
  },
  {
   "cell_type": "code",
   "execution_count": 24,
   "id": "99e937a3",
   "metadata": {},
   "outputs": [
    {
     "name": "stdout",
     "output_type": "stream",
     "text": [
      "Epoch [1/10], Loss: 0.6579\n",
      "Epoch [2/10], Loss: 0.4892\n",
      "Epoch [3/10], Loss: 0.3938\n",
      "Epoch [4/10], Loss: 0.3508\n",
      "Epoch [5/10], Loss: 0.3190\n",
      "Epoch [6/10], Loss: 0.2829\n",
      "Epoch [7/10], Loss: 0.2486\n",
      "Epoch [8/10], Loss: 0.2397\n",
      "Epoch [9/10], Loss: 0.2356\n",
      "Epoch [10/10], Loss: 0.2027\n"
     ]
    }
   ],
   "source": [
    "# Training loop\n",
    "best_val_loss = float('inf')\n",
    "epochs_no_improve = 0\n",
    "loss_history = []\n",
    "\n",
    "for epoch in range(num_epochs):\n",
    "    model.train()\n",
    "    running_loss = 0.0\n",
    "\n",
    "    for images, labels in train_loader:\n",
    "        images, labels = images.to(device), labels.to(device)\n",
    "\n",
    "        optimizer.zero_grad()\n",
    "        outputs = model(images)\n",
    "        loss = criterion(outputs, labels)\n",
    "        loss.backward()\n",
    "        optimizer.step()\n",
    "\n",
    "        running_loss += loss.item()\n",
    "\n",
    "    train_loss = running_loss / len(train_loader)\n",
    "    loss_history.append(train_loss)\n",
    "\n",
    "    print(f\"Epoch [{epoch+1}/{num_epochs}], Loss: {train_loss:.4f}\")\n"
   ]
  },
  {
   "cell_type": "code",
   "execution_count": 37,
   "id": "b5c63f1e",
   "metadata": {},
   "outputs": [
    {
     "ename": "SyntaxError",
     "evalue": "'break' outside loop (2734433794.py, line 11)",
     "output_type": "error",
     "traceback": [
      "\u001b[1;36m  File \u001b[1;32m\"C:\\Users\\Indhuma\\AppData\\Local\\Temp\\ipykernel_6644\\2734433794.py\"\u001b[1;36m, line \u001b[1;32m11\u001b[0m\n\u001b[1;33m    break\u001b[0m\n\u001b[1;37m    ^\u001b[0m\n\u001b[1;31mSyntaxError\u001b[0m\u001b[1;31m:\u001b[0m 'break' outside loop\n"
     ]
    }
   ],
   "source": [
    "# Early stopping\n",
    "if use_early_stopping:\n",
    "    if train_loss < best_val_loss:\n",
    "        best_val_loss = train_loss\n",
    "        epochs_no_improve = 0\n",
    "        torch.save(model.state_dict(), \"best_cnn_model.pth\")\n",
    "    else:\n",
    "        epochs_no_improve += 1\n",
    "    if epochs_no_improve >= patience:\n",
    "        print(\"Early stopping triggered.\")\n",
    "        break"
   ]
  },
  {
   "cell_type": "code",
   "execution_count": 38,
   "id": "01c446a5",
   "metadata": {},
   "outputs": [
    {
     "name": "stdout",
     "output_type": "stream",
     "text": [
      "Epoch [1/10], Loss: 0.2146\n",
      "Epoch [2/10], Loss: 0.1819\n",
      "Epoch [3/10], Loss: 0.1784\n",
      "Epoch [4/10], Loss: 0.1546\n",
      "Epoch [5/10], Loss: 0.1475\n",
      "Epoch [6/10], Loss: 0.1447\n",
      "Epoch [7/10], Loss: 0.1421\n",
      "Epoch [8/10], Loss: 0.1145\n",
      "Epoch [9/10], Loss: 0.1181\n",
      "Epoch [10/10], Loss: 0.1004\n"
     ]
    }
   ],
   "source": [
    "# Training loop\n",
    "best_val_loss = float('inf')\n",
    "epochs_no_improve = 0\n",
    "loss_history = []\n",
    "\n",
    "for epoch in range(num_epochs):\n",
    "    model.train()\n",
    "    running_loss = 0.0\n",
    "\n",
    "    for images, labels in train_loader:\n",
    "        images, labels = images.to(device), labels.to(device)\n",
    "\n",
    "        optimizer.zero_grad()\n",
    "        outputs = model(images)\n",
    "        loss = criterion(outputs, labels)\n",
    "        loss.backward()\n",
    "        optimizer.step()\n",
    "\n",
    "        running_loss += loss.item()\n",
    "\n",
    "    train_loss = running_loss / len(train_loader)\n",
    "    loss_history.append(train_loss)\n",
    "\n",
    "    print(f\"Epoch [{epoch+1}/{num_epochs}], Loss: {train_loss:.4f}\")\n",
    "\n",
    "    # Early stopping\n",
    "    if use_early_stopping:\n",
    "        if train_loss < best_val_loss:\n",
    "            best_val_loss = train_loss\n",
    "            epochs_no_improve = 0\n",
    "            torch.save(model.state_dict(), \"best_cnn_model.pth\")\n",
    "        else:\n",
    "            epochs_no_improve += 1\n",
    "        if epochs_no_improve >= patience:\n",
    "            print(\"Early stopping triggered.\")\n",
    "            break"
   ]
  },
  {
   "cell_type": "code",
   "execution_count": 39,
   "id": "23b27938",
   "metadata": {},
   "outputs": [
    {
     "name": "stderr",
     "output_type": "stream",
     "text": [
      "C:\\Users\\Indhuma\\AppData\\Local\\Temp\\ipykernel_6644\\3219309454.py:2: FutureWarning: You are using `torch.load` with `weights_only=False` (the current default value), which uses the default pickle module implicitly. It is possible to construct malicious pickle data which will execute arbitrary code during unpickling (See https://github.com/pytorch/pytorch/blob/main/SECURITY.md#untrusted-models for more details). In a future release, the default value for `weights_only` will be flipped to `True`. This limits the functions that could be executed during unpickling. Arbitrary objects will no longer be allowed to be loaded via this mode unless they are explicitly allowlisted by the user via `torch.serialization.add_safe_globals`. We recommend you start setting `weights_only=True` for any use case where you don't have full control of the loaded file. Please open an issue on GitHub for any issues related to this experimental feature.\n",
      "  model.load_state_dict(torch.load(\"best_cnn_model.pth\"))\n"
     ]
    },
    {
     "data": {
      "text/plain": [
       "<All keys matched successfully>"
      ]
     },
     "execution_count": 39,
     "metadata": {},
     "output_type": "execute_result"
    }
   ],
   "source": [
    "\n",
    "# Load the best model\n",
    "model.load_state_dict(torch.load(\"best_cnn_model.pth\"))"
   ]
  },
  {
   "cell_type": "code",
   "execution_count": 40,
   "id": "0d8b60af",
   "metadata": {},
   "outputs": [
    {
     "name": "stdout",
     "output_type": "stream",
     "text": [
      "Accuracy on test images: 92.96%\n",
      "\n",
      "Classification Report:\n",
      "              precision    recall  f1-score   support\n",
      "\n",
      "       COVID       0.93      0.92      0.92       232\n",
      "   non-COVID       0.93      0.94      0.93       265\n",
      "\n",
      "    accuracy                           0.93       497\n",
      "   macro avg       0.93      0.93      0.93       497\n",
      "weighted avg       0.93      0.93      0.93       497\n",
      "\n",
      "\n",
      "Confusion Matrix:\n",
      "[[213  19]\n",
      " [ 16 249]]\n"
     ]
    },
    {
     "data": {
      "image/png": "[encoded data removed]",
      "text/plain": [
       "<Figure size 800x600 with 2 Axes>"
      ]
     },
     "metadata": {},
     "output_type": "display_data"
    }
   ],
   "source": [
    "# Evaluate the model on the test set\n",
    "model.eval()\n",
    "all_labels = []\n",
    "all_preds = []\n",
    "correct = 0\n",
    "total = 0\n",
    "\n",
    "with torch.no_grad():\n",
    "    for images, labels in test_loader:\n",
    "        images, labels = images.to(device), labels.to(device)\n",
    "        outputs = model(images)\n",
    "        _, predicted = torch.max(outputs.data, 1)\n",
    "\n",
    "        total += labels.size(0)\n",
    "        correct += (predicted == labels).sum().item()\n",
    "        all_labels.extend(labels.cpu().numpy())\n",
    "        all_preds.extend(predicted.cpu().numpy())\n",
    "\n",
    "# Print the accuracy\n",
    "accuracy = 100 * correct / total\n",
    "print(f\"Accuracy on test images: {accuracy:.2f}%\")\n",
    "\n",
    "# Classification report and confusion matrix\n",
    "print(\"\\nClassification Report:\")\n",
    "print(classification_report(all_labels, all_preds, target_names=dataset.classes))\n",
    "\n",
    "conf_matrix = confusion_matrix(all_labels, all_preds)\n",
    "print(\"\\nConfusion Matrix:\")\n",
    "print(conf_matrix)\n",
    "\n",
    "# Visualize the confusion matrix\n",
    "plt.figure(figsize=(8, 6))\n",
    "sns.heatmap(conf_matrix, annot=True, fmt=\"d\", cmap=\"Blues\", xticklabels=dataset.classes, yticklabels=dataset.classes)\n",
    "plt.title(\"Confusion Matrix\")\n",
    "plt.xlabel(\"Predicted Labels\")\n",
    "plt.ylabel(\"True Labels\")\n",
    "plt.show()\n",
    "\n",
    "np.random.seed(42)\n"
   ]
  },
  {
   "cell_type": "code",
   "execution_count": null,
   "id": "5962bcd7",
   "metadata": {},
   "outputs": [],
   "source": []
  },
  {
   "cell_type": "code",
   "execution_count": null,
   "id": "e08ecb31",
   "metadata": {},
   "outputs": [],
   "source": []
  },
  {
   "cell_type": "code",
   "execution_count": null,
   "id": "f34bd0fa",
   "metadata": {},
   "outputs": [],
   "source": []
  }
 ],
 "metadata": {
  "kernelspec": {
   "display_name": "Python 3 (ipykernel)",
   "language": "python",
   "name": "python3"
  },
  "language_info": {
   "codemirror_mode": {
    "name": "ipython",
    "version": 3
   },
   "file_extension": ".py",
   "mimetype": "text/x-python",
   "name": "python",
   "nbconvert_exporter": "python",
   "pygments_lexer": "ipython3",
   "version": "3.9.13"
  }
 },
 "nbformat": 4,
 "nbformat_minor": 5
}
