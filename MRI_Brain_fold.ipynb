{
 "cells": [
  {
   "cell_type": "code",
   "execution_count": 2,
   "id": "3a17767b-9575-4095-a62a-396001e7dde9",
   "metadata": {},
   "outputs": [],
   "source": [
    "import numpy as np\n",
    "import os\n",
    "import pathlib\n",
    "import cv2\n",
    "from sklearn.model_selection import train_test_split, StratifiedKFold\n",
    "from sklearn.metrics import accuracy_score, classification_report, precision_score, recall_score, f1_score\n",
    "from sklearn.ensemble import RandomForestClassifier\n",
    "from sklearn.svm import SVC\n",
    "from sklearn.linear_model import LogisticRegression\n",
    "from sklearn.neighbors import KNeighborsClassifier\n",
    "from sklearn.naive_bayes import GaussianNB\n",
    "from sklearn.tree import DecisionTreeClassifier\n",
    "from keras.applications.mobilenet_v2 import MobileNetV2\n",
    "from keras.layers import GlobalAveragePooling2D\n",
    "from keras.models import Sequential"
   ]
  },
  {
   "cell_type": "code",
   "execution_count": 4,
   "id": "74e9c0db-9979-4336-99af-6b16d5165b33",
   "metadata": {},
   "outputs": [],
   "source": [
    "# Define constants\n",
    "IMAGE_SHAPE = (200, 200)  # Resize all images to this shape for MobileNetV2\n",
    "BATCH_SIZE = 100\n",
    "DATA_DIR = 'C:/Users/Indhu/Downloads/MRI brain/'  # Update with your dataset path"
   ]
  },
  {
   "cell_type": "code",
   "execution_count": 24,
   "id": "4c117ede-24e7-4dab-95c6-15839ece8a92",
   "metadata": {},
   "outputs": [],
   "source": [
    "# Load data\n",
    "data_dir = pathlib.Path(DATA_DIR)\n",
    "categories = os.listdir(DATA_DIR)\n",
    "mri_images_dict = {}\n",
    "mri_labels_dict = {}\n",
    "X, y = [], []\n",
    "for index, category in enumerate(categories):\n",
    "   mri_images_dict[category] = list(data_dir.glob(category + '/*'))\n",
    "   mri_labels_dict[category] = index\n",
    "\n",
    "for category_name, images in mri_images_dict.items():\n",
    "    for image in images:\n",
    "        img = cv2.imread(str(image))\n",
    "        resized_img = cv2.resize(img, IMAGE_SHAPE)\n",
    "        X.append(resized_img)\n",
    "        y.append(mri_labels_dict[category_name])\n",
    "\n",
    "X = np.array(X) / 255.0  # Normalize images\n",
    "y = np.array(y)"
   ]
  },
  {
   "cell_type": "code",
   "execution_count": 38,
   "id": "d8129b7f-d58c-406b-91f4-df47c2263d93",
   "metadata": {},
   "outputs": [
    {
     "name": "stdout",
     "output_type": "stream",
     "text": [
      "Class 'glioma': 300 images\n",
      "Class 'meningioma': 306 images\n",
      "Class 'notumor': 405 images\n",
      "Class 'pituitary': 300 images\n"
     ]
    }
   ],
   "source": [
    "# Count images per class\n",
    "class_counts = {category: len(images) for category, images in mri_images_dict.items()}\n",
    "\n",
    "# Print counts for each class\n",
    "for category, count in class_counts.items():\n",
    "    print(f\"Class '{category}': {count} images\")\n"
   ]
  },
  {
   "cell_type": "code",
   "execution_count": 28,
   "id": "fdb8b7e3-7b6d-49aa-859b-1f42bd5e47a3",
   "metadata": {},
   "outputs": [
    {
     "name": "stdout",
     "output_type": "stream",
     "text": [
      "Loaded 1311 images with shape (1311, 200, 200, 3) and 1311 labels.\n",
      "X shape: (1311, 200, 200, 3), y shape: (1311,)\n"
     ]
    }
   ],
   "source": [
    "print(f\"Loaded {len(X)} images with shape {X.shape} and {len(y)} labels.\")\n",
    "print(f\"X shape: {X.shape}, y shape: {y.shape}\")"
   ]
  },
  {
   "cell_type": "code",
   "execution_count": 8,
   "id": "9f94b427-2f1a-40c1-a47a-ab6dab323dfb",
   "metadata": {},
   "outputs": [],
   "source": [
    "# Split dataset\n",
    "X_train, X_test, y_train, y_test = train_test_split(X, y, test_size=0.2, random_state=42)"
   ]
  },
  {
   "cell_type": "code",
   "execution_count": 36,
   "id": "9b297c85-2671-4074-a060-f07a4202ac25",
   "metadata": {},
   "outputs": [
    {
     "name": "stdout",
     "output_type": "stream",
     "text": [
      "Training data: 1048 (1048, 200, 200, 3) samples (79.94%)\n",
      "Testing data: 263 (263, 200, 200, 3) samples (20.06%)\n"
     ]
    }
   ],
   "source": [
    "# Calculate the percentages\n",
    "train_percentage = len(X_train) / len(X) * 100\n",
    "test_percentage = len(X_test) / len(X) * 100\n",
    "\n",
    "# Print the results\n",
    "print(f\"Training data: {len(X_train)} {X_train.shape} samples ({train_percentage:.2f}%)\")\n",
    "print(f\"Testing data: {len(X_test)} {X_test.shape} samples ({test_percentage:.2f}%)\")"
   ]
  },
  {
   "cell_type": "code",
   "execution_count": 10,
   "id": "166c4eff-9b96-4139-a203-d247f0bae305",
   "metadata": {},
   "outputs": [
    {
     "name": "stderr",
     "output_type": "stream",
     "text": [
      "C:\\Users\\Indhu\\AppData\\Local\\Temp\\ipykernel_7644\\327665529.py:1: UserWarning: `input_shape` is undefined or non-square, or `rows` is not in [96, 128, 160, 192, 224]. Weights for input shape (224, 224) will be loaded as the default.\n",
      "  base_model_mobilenet = MobileNetV2(input_shape=IMAGE_SHAPE + (3,), include_top=False, weights='imagenet')\n"
     ]
    }
   ],
   "source": [
    "base_model_mobilenet = MobileNetV2(input_shape=IMAGE_SHAPE + (3,), include_top=False, weights='imagenet')\n",
    "base_model_mobilenet.trainable = False  # Freeze the convolutional base\n",
    "\n",
    "feature_extractor_mobilenet = Sequential([\n",
    "    base_model_mobilenet,\n",
    "    GlobalAveragePooling2D()\n",
    "])"
   ]
  },
  {
   "cell_type": "code",
   "execution_count": 58,
   "id": "3e1a1fb5-ea1e-44c2-a5a5-42621a385b5e",
   "metadata": {},
   "outputs": [
    {
     "name": "stdout",
     "output_type": "stream",
     "text": [
      "\u001b[1m11/11\u001b[0m \u001b[32m━━━━━━━━━━━━━━━━━━━━\u001b[0m\u001b[37m\u001b[0m \u001b[1m21s\u001b[0m 2s/step\n",
      "\u001b[1m3/3\u001b[0m \u001b[32m━━━━━━━━━━━━━━━━━━━━\u001b[0m\u001b[37m\u001b[0m \u001b[1m5s\u001b[0m 2s/step\n"
     ]
    }
   ],
   "source": [
    "# Extract features using MobileNetV2\n",
    "import time\n",
    "start_trainfeatures_time = time.time()\n",
    "X_train_features = feature_extractor_mobilenet.predict(X_train, batch_size=BATCH_SIZE, verbose=1)  \n",
    "end_trainfeatures_time = time.time()\n",
    "start_testfeatures_time = time.time()\n",
    "X_test_features = feature_extractor_mobilenet.predict(X_test, batch_size=BATCH_SIZE, verbose=1) \n",
    "end_testfeatures_time = time.time()"
   ]
  },
  {
   "cell_type": "code",
   "execution_count": 62,
   "id": "f8bd6b48-2039-4c36-9021-50094e2ec0d2",
   "metadata": {},
   "outputs": [
    {
     "name": "stdout",
     "output_type": "stream",
     "text": [
      "Training time: 21.756541967391968 seconds\n",
      "Testing time: 5.844156265258789 seconds\n"
     ]
    }
   ],
   "source": [
    "# Calculate time taken for training and testing\n",
    "train_time = end_trainfeatures_time - start_trainfeatures_time\n",
    "test_time = end_testfeatures_time - start_testfeatures_time\n",
    "print(f\"Training time: {train_time} seconds\")\n",
    "print(f\"Testing time: {test_time} seconds\")"
   ]
  },
  {
   "cell_type": "code",
   "execution_count": 14,
   "id": "21b3099d-addf-4de0-82a5-262db05d87a0",
   "metadata": {},
   "outputs": [],
   "source": [
    "# Initialize classifiers\n",
    "classifiers = {\n",
    "    \"Random Forest\": RandomForestClassifier(n_estimators=100, random_state=42),\n",
    "    \"Logistic Regression\": LogisticRegression(max_iter=200, random_state=42),\n",
    "    \"K-Nearest Neighbors\": KNeighborsClassifier(n_neighbors=5),\n",
    "    \"Support Vector Machine\": SVC(kernel='rbf', probability=True, random_state=42),\n",
    "    \"Decision Tree\": DecisionTreeClassifier(random_state=42),\n",
    "    \"Naive Bayes\": GaussianNB()\n",
    "}"
   ]
  },
  {
   "cell_type": "code",
   "execution_count": 54,
   "id": "36bad32e-b741-4b64-bd90-afc51bf2072a",
   "metadata": {},
   "outputs": [
    {
     "name": "stdout",
     "output_type": "stream",
     "text": [
      "Evaluating Random Forest...\n",
      "Random Forest Accuracy: 0.8479\n",
      "              precision    recall  f1-score   support\n",
      "\n",
      "           0       0.83      0.79      0.81        61\n",
      "           1       0.76      0.58      0.66        60\n",
      "           2       0.94      0.99      0.96        80\n",
      "           3       0.81      0.98      0.89        62\n",
      "\n",
      "    accuracy                           0.85       263\n",
      "   macro avg       0.84      0.84      0.83       263\n",
      "weighted avg       0.84      0.85      0.84       263\n",
      "\n",
      "Evaluating Logistic Regression...\n",
      "Logistic Regression Accuracy: 0.8821\n",
      "              precision    recall  f1-score   support\n",
      "\n",
      "           0       0.87      0.89      0.88        61\n",
      "           1       0.78      0.72      0.75        60\n",
      "           2       0.94      0.97      0.96        80\n",
      "           3       0.90      0.92      0.91        62\n",
      "\n",
      "    accuracy                           0.88       263\n",
      "   macro avg       0.87      0.87      0.87       263\n",
      "weighted avg       0.88      0.88      0.88       263\n",
      "\n",
      "Evaluating K-Nearest Neighbors...\n",
      "K-Nearest Neighbors Accuracy: 0.8593\n",
      "              precision    recall  f1-score   support\n",
      "\n",
      "           0       0.77      0.87      0.82        61\n",
      "           1       0.80      0.62      0.70        60\n",
      "           2       0.94      0.97      0.96        80\n",
      "           3       0.89      0.94      0.91        62\n",
      "\n",
      "    accuracy                           0.86       263\n",
      "   macro avg       0.85      0.85      0.85       263\n",
      "weighted avg       0.86      0.86      0.85       263\n",
      "\n",
      "Evaluating Support Vector Machine...\n",
      "Support Vector Machine Accuracy: 0.9049\n",
      "              precision    recall  f1-score   support\n",
      "\n",
      "           0       0.89      0.84      0.86        61\n",
      "           1       0.80      0.82      0.81        60\n",
      "           2       0.99      0.96      0.97        80\n",
      "           3       0.91      0.98      0.95        62\n",
      "\n",
      "    accuracy                           0.90       263\n",
      "   macro avg       0.90      0.90      0.90       263\n",
      "weighted avg       0.91      0.90      0.90       263\n",
      "\n",
      "Evaluating Decision Tree...\n",
      "Decision Tree Accuracy: 0.7300\n",
      "              precision    recall  f1-score   support\n",
      "\n",
      "           0       0.68      0.70      0.69        61\n",
      "           1       0.53      0.52      0.52        60\n",
      "           2       0.86      0.89      0.87        80\n",
      "           3       0.81      0.76      0.78        62\n",
      "\n",
      "    accuracy                           0.73       263\n",
      "   macro avg       0.72      0.72      0.72       263\n",
      "weighted avg       0.73      0.73      0.73       263\n",
      "\n",
      "Evaluating Naive Bayes...\n",
      "Naive Bayes Accuracy: 0.8175\n",
      "              precision    recall  f1-score   support\n",
      "\n",
      "           0       0.79      0.82      0.81        61\n",
      "           1       0.70      0.55      0.62        60\n",
      "           2       0.88      0.96      0.92        80\n",
      "           3       0.85      0.89      0.87        62\n",
      "\n",
      "    accuracy                           0.82       263\n",
      "   macro avg       0.80      0.80      0.80       263\n",
      "weighted avg       0.81      0.82      0.81       263\n",
      "\n"
     ]
    }
   ],
   "source": [
    "# Evaluate classifiers using test set\n",
    "for model_name, model in classifiers.items():\n",
    "    print(f\"Evaluating {model_name}...\")\n",
    "    start_train_time = time.time()\n",
    "    model.fit(X_train_features, y_train)\n",
    "    end_train_time = time.time()\n",
    "    start_test_time = time.time() \n",
    "    y_pred = model.predict(X_test_features)\n",
    "    end_test_time = time.time()\n",
    "    print(f\"{model_name} Accuracy: {accuracy_score(y_test, y_pred):.4f}\")\n",
    "    print(classification_report(y_test, y_pred))"
   ]
  },
  {
   "cell_type": "code",
   "execution_count": 56,
   "id": "cdd82ec9-e6df-41ee-ae2c-d4e068812360",
   "metadata": {},
   "outputs": [
    {
     "name": "stdout",
     "output_type": "stream",
     "text": [
      "Training time: 0.015629053115844727 seconds\n",
      "Testing time: 0.031249046325683594 seconds\n"
     ]
    }
   ],
   "source": [
    "# Calculate time taken for training and testing\n",
    "train_time = end_train_time - start_train_time\n",
    "test_time = end_test_time - start_test_time\n",
    "print(f\"Training time: {train_time} seconds\")\n",
    "print(f\"Testing time: {test_time} seconds\")"
   ]
  },
  {
   "cell_type": "code",
   "execution_count": 72,
   "id": "1664520d-34f1-49be-83ae-509cd86ac2a1",
   "metadata": {},
   "outputs": [
    {
     "name": "stdout",
     "output_type": "stream",
     "text": [
      "K-Fold Cross Validation for Random Forest...\n",
      "Average Accuracy: 0.8597\n",
      "Average Precision: 0.8600\n",
      "Average Recall: 0.8597\n",
      "Average F1 Score: 0.8547\n",
      "\n",
      "K-Fold Cross Validation for Logistic Regression...\n",
      "Average Accuracy: 0.8826\n",
      "Average Precision: 0.8828\n",
      "Average Recall: 0.8826\n",
      "Average F1 Score: 0.8805\n",
      "\n",
      "K-Fold Cross Validation for K-Nearest Neighbors...\n",
      "Average Accuracy: 0.8129\n",
      "Average Precision: 0.8146\n",
      "Average Recall: 0.8129\n",
      "Average F1 Score: 0.8013\n",
      "\n",
      "K-Fold Cross Validation for Support Vector Machine...\n",
      "Average Accuracy: 0.8864\n",
      "Average Precision: 0.8872\n",
      "Average Recall: 0.8864\n",
      "Average F1 Score: 0.8841\n",
      "\n",
      "K-Fold Cross Validation for Decision Tree...\n",
      "Average Accuracy: 0.6660\n",
      "Average Precision: 0.6692\n",
      "Average Recall: 0.6660\n",
      "Average F1 Score: 0.6659\n",
      "\n",
      "K-Fold Cross Validation for Naive Bayes...\n",
      "Average Accuracy: 0.7958\n",
      "Average Precision: 0.7911\n",
      "Average Recall: 0.7958\n",
      "Average F1 Score: 0.7911\n",
      "\n"
     ]
    }
   ],
   "source": [
    "# Evaluate classifiers using k-fold cross-validation\n",
    "kf = StratifiedKFold(n_splits=5, shuffle=True, random_state=42)\n",
    "for clf_name, clf in classifiers.items():\n",
    "    print(f\"K-Fold Cross Validation for {clf_name}...\")\n",
    "    precision_scores = []\n",
    "    recall_scores = []\n",
    "    f1_scores = []\n",
    "    accuracy_scores = []\n",
    "\n",
    "    for train_index, val_index in kf.split(X_train_features, y_train):\n",
    "        X_train_fold, X_val_fold = X_train_features[train_index], X_train_features[val_index]\n",
    "        y_train_fold, y_val_fold = y_train[train_index], y_train[val_index]\n",
    "\n",
    "        clf.fit(X_train_fold, y_train_fold)\n",
    "        y_val_pred = clf.predict(X_val_fold)\n",
    "\n",
    "        accuracy_scores.append(accuracy_score(y_val_fold, y_val_pred))\n",
    "        precision_scores.append(precision_score(y_val_fold, y_val_pred, average='weighted'))\n",
    "        recall_scores.append(recall_score(y_val_fold, y_val_pred, average='weighted'))\n",
    "        f1_scores.append(f1_score(y_val_fold, y_val_pred, average='weighted'))\n",
    "\n",
    "    print(f\"Average Accuracy: {np.mean(accuracy_scores):.4f}\")\n",
    "    print(f\"Average Precision: {np.mean(precision_scores):.4f}\")\n",
    "    print(f\"Average Recall: {np.mean(recall_scores):.4f}\")\n",
    "    print(f\"Average F1 Score: {np.mean(f1_scores):.4f}\\n\")"
   ]
  },
  {
   "cell_type": "code",
   "execution_count": null,
   "id": "b9b0a135-fa2e-40fb-b66c-fef24deb4e17",
   "metadata": {},
   "outputs": [],
   "source": []
  }
 ],
 "metadata": {
  "kernelspec": {
   "display_name": "Python 3 (ipykernel)",
   "language": "python",
   "name": "python3"
  },
  "language_info": {
   "codemirror_mode": {
    "name": "ipython",
    "version": 3
   },
   "file_extension": ".py",
   "mimetype": "text/x-python",
   "name": "python",
   "nbconvert_exporter": "python",
   "pygments_lexer": "ipython3",
   "version": "3.12.4"
  }
 },
 "nbformat": 4,
 "nbformat_minor": 5
}
